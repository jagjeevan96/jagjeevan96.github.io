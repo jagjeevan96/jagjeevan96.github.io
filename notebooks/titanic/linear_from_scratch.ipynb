{
 "cells": [
  {
   "cell_type": "markdown",
   "metadata": {
    "_cell_guid": "b1076dfc-b9ad-4769-8c92-a6c4dae69d19",
    "_uuid": "8f2839f25d086af736a60e9eeb907d3b93b6e0e5"
   },
   "source": [
    "# Titanic: Machine Learning from Disaster"
   ]
  },
  {
   "cell_type": "code",
   "execution_count": 1,
   "metadata": {
    "execution": {
     "iopub.execute_input": "2022-11-27T18:27:20.902964Z",
     "iopub.status.busy": "2022-11-27T18:27:20.902433Z",
     "iopub.status.idle": "2022-11-27T18:27:20.916630Z",
     "shell.execute_reply": "2022-11-27T18:27:20.915589Z",
     "shell.execute_reply.started": "2022-11-27T18:27:20.902852Z"
    }
   },
   "outputs": [],
   "source": [
    "# download data from kaggle\n",
    "import os\n",
    "from pathlib import Path\n",
    "\n",
    "iskaggle = os.environ.get('KAGGLE_KERNEL_RUN_TYPE', '')\n",
    "if iskaggle: path = Path('../input/titanic')\n",
    "else:\n",
    "    path = Path('titanic')\n",
    "    if not path.exists():\n",
    "        import zipfile,kaggle\n",
    "        kaggle.api.competition_download_cli(str(path))\n",
    "        zipfile.ZipFile(f'{path}.zip').extractall(path)"
   ]
  },
  {
   "cell_type": "code",
   "execution_count": 2,
   "metadata": {
    "execution": {
     "iopub.execute_input": "2022-11-27T18:27:20.919258Z",
     "iopub.status.busy": "2022-11-27T18:27:20.918915Z",
     "iopub.status.idle": "2022-11-27T18:27:21.473532Z",
     "shell.execute_reply": "2022-11-27T18:27:21.472336Z",
     "shell.execute_reply.started": "2022-11-27T18:27:20.919226Z"
    }
   },
   "outputs": [],
   "source": [
    "import pandas as pd\n",
    "pd.set_option('display.max_columns', None)\n",
    "import numpy as np\n",
    "import matplotlib.pyplot as plt\n",
    "%matplotlib inline\n",
    "import seaborn as sns"
   ]
  },
  {
   "cell_type": "markdown",
   "metadata": {
    "execution": {
     "iopub.execute_input": "2022-11-27T17:49:54.950152Z",
     "iopub.status.busy": "2022-11-27T17:49:54.949636Z",
     "iopub.status.idle": "2022-11-27T17:49:54.956343Z",
     "shell.execute_reply": "2022-11-27T17:49:54.955014Z",
     "shell.execute_reply.started": "2022-11-27T17:49:54.950112Z"
    }
   },
   "source": [
    "## Simple data exploration"
   ]
  },
  {
   "cell_type": "code",
   "execution_count": 3,
   "metadata": {
    "execution": {
     "iopub.execute_input": "2022-11-27T18:27:21.475156Z",
     "iopub.status.busy": "2022-11-27T18:27:21.474818Z",
     "iopub.status.idle": "2022-11-27T18:27:21.561885Z",
     "shell.execute_reply": "2022-11-27T18:27:21.560605Z",
     "shell.execute_reply.started": "2022-11-27T18:27:21.475125Z"
    }
   },
   "outputs": [
    {
     "data": {
      "text/html": [
       "<div>\n",
       "<style scoped>\n",
       "    .dataframe tbody tr th:only-of-type {\n",
       "        vertical-align: middle;\n",
       "    }\n",
       "\n",
       "    .dataframe tbody tr th {\n",
       "        vertical-align: top;\n",
       "    }\n",
       "\n",
       "    .dataframe thead th {\n",
       "        text-align: right;\n",
       "    }\n",
       "</style>\n",
       "<table border=\"1\" class=\"dataframe\">\n",
       "  <thead>\n",
       "    <tr style=\"text-align: right;\">\n",
       "      <th></th>\n",
       "      <th>PassengerId</th>\n",
       "      <th>Survived</th>\n",
       "      <th>Pclass</th>\n",
       "      <th>Name</th>\n",
       "      <th>Sex</th>\n",
       "      <th>Age</th>\n",
       "      <th>SibSp</th>\n",
       "      <th>Parch</th>\n",
       "      <th>Ticket</th>\n",
       "      <th>Fare</th>\n",
       "      <th>Cabin</th>\n",
       "      <th>Embarked</th>\n",
       "    </tr>\n",
       "  </thead>\n",
       "  <tbody>\n",
       "    <tr>\n",
       "      <th>count</th>\n",
       "      <td>891.000000</td>\n",
       "      <td>891.000000</td>\n",
       "      <td>891.000000</td>\n",
       "      <td>891</td>\n",
       "      <td>891</td>\n",
       "      <td>714.000000</td>\n",
       "      <td>891.000000</td>\n",
       "      <td>891.000000</td>\n",
       "      <td>891</td>\n",
       "      <td>891.000000</td>\n",
       "      <td>204</td>\n",
       "      <td>889</td>\n",
       "    </tr>\n",
       "    <tr>\n",
       "      <th>unique</th>\n",
       "      <td>NaN</td>\n",
       "      <td>NaN</td>\n",
       "      <td>NaN</td>\n",
       "      <td>891</td>\n",
       "      <td>2</td>\n",
       "      <td>NaN</td>\n",
       "      <td>NaN</td>\n",
       "      <td>NaN</td>\n",
       "      <td>681</td>\n",
       "      <td>NaN</td>\n",
       "      <td>147</td>\n",
       "      <td>3</td>\n",
       "    </tr>\n",
       "    <tr>\n",
       "      <th>top</th>\n",
       "      <td>NaN</td>\n",
       "      <td>NaN</td>\n",
       "      <td>NaN</td>\n",
       "      <td>Braund, Mr. Owen Harris</td>\n",
       "      <td>male</td>\n",
       "      <td>NaN</td>\n",
       "      <td>NaN</td>\n",
       "      <td>NaN</td>\n",
       "      <td>347082</td>\n",
       "      <td>NaN</td>\n",
       "      <td>B96 B98</td>\n",
       "      <td>S</td>\n",
       "    </tr>\n",
       "    <tr>\n",
       "      <th>freq</th>\n",
       "      <td>NaN</td>\n",
       "      <td>NaN</td>\n",
       "      <td>NaN</td>\n",
       "      <td>1</td>\n",
       "      <td>577</td>\n",
       "      <td>NaN</td>\n",
       "      <td>NaN</td>\n",
       "      <td>NaN</td>\n",
       "      <td>7</td>\n",
       "      <td>NaN</td>\n",
       "      <td>4</td>\n",
       "      <td>644</td>\n",
       "    </tr>\n",
       "    <tr>\n",
       "      <th>mean</th>\n",
       "      <td>446.000000</td>\n",
       "      <td>0.383838</td>\n",
       "      <td>2.308642</td>\n",
       "      <td>NaN</td>\n",
       "      <td>NaN</td>\n",
       "      <td>29.699118</td>\n",
       "      <td>0.523008</td>\n",
       "      <td>0.381594</td>\n",
       "      <td>NaN</td>\n",
       "      <td>32.204208</td>\n",
       "      <td>NaN</td>\n",
       "      <td>NaN</td>\n",
       "    </tr>\n",
       "    <tr>\n",
       "      <th>std</th>\n",
       "      <td>257.353842</td>\n",
       "      <td>0.486592</td>\n",
       "      <td>0.836071</td>\n",
       "      <td>NaN</td>\n",
       "      <td>NaN</td>\n",
       "      <td>14.526497</td>\n",
       "      <td>1.102743</td>\n",
       "      <td>0.806057</td>\n",
       "      <td>NaN</td>\n",
       "      <td>49.693429</td>\n",
       "      <td>NaN</td>\n",
       "      <td>NaN</td>\n",
       "    </tr>\n",
       "    <tr>\n",
       "      <th>min</th>\n",
       "      <td>1.000000</td>\n",
       "      <td>0.000000</td>\n",
       "      <td>1.000000</td>\n",
       "      <td>NaN</td>\n",
       "      <td>NaN</td>\n",
       "      <td>0.420000</td>\n",
       "      <td>0.000000</td>\n",
       "      <td>0.000000</td>\n",
       "      <td>NaN</td>\n",
       "      <td>0.000000</td>\n",
       "      <td>NaN</td>\n",
       "      <td>NaN</td>\n",
       "    </tr>\n",
       "    <tr>\n",
       "      <th>25%</th>\n",
       "      <td>223.500000</td>\n",
       "      <td>0.000000</td>\n",
       "      <td>2.000000</td>\n",
       "      <td>NaN</td>\n",
       "      <td>NaN</td>\n",
       "      <td>20.125000</td>\n",
       "      <td>0.000000</td>\n",
       "      <td>0.000000</td>\n",
       "      <td>NaN</td>\n",
       "      <td>7.910400</td>\n",
       "      <td>NaN</td>\n",
       "      <td>NaN</td>\n",
       "    </tr>\n",
       "    <tr>\n",
       "      <th>50%</th>\n",
       "      <td>446.000000</td>\n",
       "      <td>0.000000</td>\n",
       "      <td>3.000000</td>\n",
       "      <td>NaN</td>\n",
       "      <td>NaN</td>\n",
       "      <td>28.000000</td>\n",
       "      <td>0.000000</td>\n",
       "      <td>0.000000</td>\n",
       "      <td>NaN</td>\n",
       "      <td>14.454200</td>\n",
       "      <td>NaN</td>\n",
       "      <td>NaN</td>\n",
       "    </tr>\n",
       "    <tr>\n",
       "      <th>75%</th>\n",
       "      <td>668.500000</td>\n",
       "      <td>1.000000</td>\n",
       "      <td>3.000000</td>\n",
       "      <td>NaN</td>\n",
       "      <td>NaN</td>\n",
       "      <td>38.000000</td>\n",
       "      <td>1.000000</td>\n",
       "      <td>0.000000</td>\n",
       "      <td>NaN</td>\n",
       "      <td>31.000000</td>\n",
       "      <td>NaN</td>\n",
       "      <td>NaN</td>\n",
       "    </tr>\n",
       "    <tr>\n",
       "      <th>max</th>\n",
       "      <td>891.000000</td>\n",
       "      <td>1.000000</td>\n",
       "      <td>3.000000</td>\n",
       "      <td>NaN</td>\n",
       "      <td>NaN</td>\n",
       "      <td>80.000000</td>\n",
       "      <td>8.000000</td>\n",
       "      <td>6.000000</td>\n",
       "      <td>NaN</td>\n",
       "      <td>512.329200</td>\n",
       "      <td>NaN</td>\n",
       "      <td>NaN</td>\n",
       "    </tr>\n",
       "  </tbody>\n",
       "</table>\n",
       "</div>"
      ],
      "text/plain": [
       "        PassengerId    Survived      Pclass                     Name   Sex  \\\n",
       "count    891.000000  891.000000  891.000000                      891   891   \n",
       "unique          NaN         NaN         NaN                      891     2   \n",
       "top             NaN         NaN         NaN  Braund, Mr. Owen Harris  male   \n",
       "freq            NaN         NaN         NaN                        1   577   \n",
       "mean     446.000000    0.383838    2.308642                      NaN   NaN   \n",
       "std      257.353842    0.486592    0.836071                      NaN   NaN   \n",
       "min        1.000000    0.000000    1.000000                      NaN   NaN   \n",
       "25%      223.500000    0.000000    2.000000                      NaN   NaN   \n",
       "50%      446.000000    0.000000    3.000000                      NaN   NaN   \n",
       "75%      668.500000    1.000000    3.000000                      NaN   NaN   \n",
       "max      891.000000    1.000000    3.000000                      NaN   NaN   \n",
       "\n",
       "               Age       SibSp       Parch  Ticket        Fare    Cabin  \\\n",
       "count   714.000000  891.000000  891.000000     891  891.000000      204   \n",
       "unique         NaN         NaN         NaN     681         NaN      147   \n",
       "top            NaN         NaN         NaN  347082         NaN  B96 B98   \n",
       "freq           NaN         NaN         NaN       7         NaN        4   \n",
       "mean     29.699118    0.523008    0.381594     NaN   32.204208      NaN   \n",
       "std      14.526497    1.102743    0.806057     NaN   49.693429      NaN   \n",
       "min       0.420000    0.000000    0.000000     NaN    0.000000      NaN   \n",
       "25%      20.125000    0.000000    0.000000     NaN    7.910400      NaN   \n",
       "50%      28.000000    0.000000    0.000000     NaN   14.454200      NaN   \n",
       "75%      38.000000    1.000000    0.000000     NaN   31.000000      NaN   \n",
       "max      80.000000    8.000000    6.000000     NaN  512.329200      NaN   \n",
       "\n",
       "       Embarked  \n",
       "count       889  \n",
       "unique        3  \n",
       "top           S  \n",
       "freq        644  \n",
       "mean        NaN  \n",
       "std         NaN  \n",
       "min         NaN  \n",
       "25%         NaN  \n",
       "50%         NaN  \n",
       "75%         NaN  \n",
       "max         NaN  "
      ]
     },
     "execution_count": 3,
     "metadata": {},
     "output_type": "execute_result"
    }
   ],
   "source": [
    "train = pd.read_csv(path/'train.csv')\n",
    "train.describe(include='all')"
   ]
  },
  {
   "cell_type": "code",
   "execution_count": 4,
   "metadata": {
    "execution": {
     "iopub.execute_input": "2022-11-27T18:27:21.565716Z",
     "iopub.status.busy": "2022-11-27T18:27:21.565008Z",
     "iopub.status.idle": "2022-11-27T18:27:21.582895Z",
     "shell.execute_reply": "2022-11-27T18:27:21.581919Z",
     "shell.execute_reply.started": "2022-11-27T18:27:21.565668Z"
    }
   },
   "outputs": [
    {
     "name": "stdout",
     "output_type": "stream",
     "text": [
      "<class 'pandas.core.frame.DataFrame'>\n",
      "RangeIndex: 891 entries, 0 to 890\n",
      "Data columns (total 12 columns):\n",
      " #   Column       Non-Null Count  Dtype  \n",
      "---  ------       --------------  -----  \n",
      " 0   PassengerId  891 non-null    int64  \n",
      " 1   Survived     891 non-null    int64  \n",
      " 2   Pclass       891 non-null    int64  \n",
      " 3   Name         891 non-null    object \n",
      " 4   Sex          891 non-null    object \n",
      " 5   Age          714 non-null    float64\n",
      " 6   SibSp        891 non-null    int64  \n",
      " 7   Parch        891 non-null    int64  \n",
      " 8   Ticket       891 non-null    object \n",
      " 9   Fare         891 non-null    float64\n",
      " 10  Cabin        204 non-null    object \n",
      " 11  Embarked     889 non-null    object \n",
      "dtypes: float64(2), int64(5), object(5)\n",
      "memory usage: 83.7+ KB\n"
     ]
    }
   ],
   "source": [
    "train.info()"
   ]
  },
  {
   "cell_type": "code",
   "execution_count": 5,
   "metadata": {
    "execution": {
     "iopub.execute_input": "2022-11-27T18:27:21.584898Z",
     "iopub.status.busy": "2022-11-27T18:27:21.584434Z",
     "iopub.status.idle": "2022-11-27T18:27:21.595251Z",
     "shell.execute_reply": "2022-11-27T18:27:21.594395Z",
     "shell.execute_reply.started": "2022-11-27T18:27:21.584835Z"
    }
   },
   "outputs": [
    {
     "data": {
      "text/plain": [
       "PassengerId      0\n",
       "Survived         0\n",
       "Pclass           0\n",
       "Name             0\n",
       "Sex              0\n",
       "Age            177\n",
       "SibSp            0\n",
       "Parch            0\n",
       "Ticket           0\n",
       "Fare             0\n",
       "Cabin          687\n",
       "Embarked         2\n",
       "dtype: int64"
      ]
     },
     "execution_count": 5,
     "metadata": {},
     "output_type": "execute_result"
    }
   ],
   "source": [
    "train.isna().sum()"
   ]
  },
  {
   "cell_type": "markdown",
   "metadata": {},
   "source": [
    "- 177 values missing in `Age`\n",
    "- 687 values missing in `Cabin`\n",
    "- 2 values missing in `Embarked`"
   ]
  },
  {
   "cell_type": "markdown",
   "metadata": {},
   "source": [
    "What correlates strongly with `Age`?"
   ]
  },
  {
   "cell_type": "code",
   "execution_count": 6,
   "metadata": {
    "execution": {
     "iopub.execute_input": "2022-11-27T18:27:21.597332Z",
     "iopub.status.busy": "2022-11-27T18:27:21.596397Z",
     "iopub.status.idle": "2022-11-27T18:27:21.613307Z",
     "shell.execute_reply": "2022-11-27T18:27:21.612384Z",
     "shell.execute_reply.started": "2022-11-27T18:27:21.597296Z"
    }
   },
   "outputs": [
    {
     "data": {
      "text/plain": [
       "Age            1.000000\n",
       "Pclass         0.369226\n",
       "SibSp          0.308247\n",
       "Parch          0.189119\n",
       "Fare           0.096067\n",
       "Survived       0.077221\n",
       "PassengerId    0.036847\n",
       "dtype: float64"
      ]
     },
     "execution_count": 6,
     "metadata": {},
     "output_type": "execute_result"
    }
   ],
   "source": [
    "train.corrwith(train['Age']).abs().sort_values(ascending=False)"
   ]
  },
  {
   "cell_type": "markdown",
   "metadata": {},
   "source": [
    "- `Age` correlates perfectly with `Age`, as expected\n",
    "- `Pclass` has the strongest correlation\n",
    "- Fill missing `Age` values with the mean age for each particular `Pclass`"
   ]
  },
  {
   "cell_type": "code",
   "execution_count": 7,
   "metadata": {
    "execution": {
     "iopub.execute_input": "2022-11-27T18:27:21.615034Z",
     "iopub.status.busy": "2022-11-27T18:27:21.614691Z",
     "iopub.status.idle": "2022-11-27T18:27:21.624922Z",
     "shell.execute_reply": "2022-11-27T18:27:21.623925Z",
     "shell.execute_reply.started": "2022-11-27T18:27:21.615005Z"
    }
   },
   "outputs": [],
   "source": [
    "def fill_age(df):\n",
    "    pclass = df.groupby(by='Pclass').mean()['Age']\n",
    "    mapping = pclass.to_dict()\n",
    "    df.loc[df['Age'].isnull(),'Age'] = df['Pclass'].map(mapping)\n",
    "    \n",
    "fill_age(train)"
   ]
  },
  {
   "cell_type": "code",
   "execution_count": 8,
   "metadata": {
    "execution": {
     "iopub.execute_input": "2022-11-27T18:27:21.626759Z",
     "iopub.status.busy": "2022-11-27T18:27:21.626233Z",
     "iopub.status.idle": "2022-11-27T18:27:21.666059Z",
     "shell.execute_reply": "2022-11-27T18:27:21.664927Z",
     "shell.execute_reply.started": "2022-11-27T18:27:21.626722Z"
    }
   },
   "outputs": [
    {
     "data": {
      "text/html": [
       "<div>\n",
       "<style scoped>\n",
       "    .dataframe tbody tr th:only-of-type {\n",
       "        vertical-align: middle;\n",
       "    }\n",
       "\n",
       "    .dataframe tbody tr th {\n",
       "        vertical-align: top;\n",
       "    }\n",
       "\n",
       "    .dataframe thead th {\n",
       "        text-align: right;\n",
       "    }\n",
       "</style>\n",
       "<table border=\"1\" class=\"dataframe\">\n",
       "  <thead>\n",
       "    <tr style=\"text-align: right;\">\n",
       "      <th></th>\n",
       "      <th>PassengerId</th>\n",
       "      <th>Survived</th>\n",
       "      <th>Pclass</th>\n",
       "      <th>Age</th>\n",
       "      <th>SibSp</th>\n",
       "      <th>Parch</th>\n",
       "      <th>Fare</th>\n",
       "    </tr>\n",
       "  </thead>\n",
       "  <tbody>\n",
       "    <tr>\n",
       "      <th>count</th>\n",
       "      <td>891.000000</td>\n",
       "      <td>891.000000</td>\n",
       "      <td>891.000000</td>\n",
       "      <td>891.000000</td>\n",
       "      <td>891.000000</td>\n",
       "      <td>891.000000</td>\n",
       "      <td>891.000000</td>\n",
       "    </tr>\n",
       "    <tr>\n",
       "      <th>mean</th>\n",
       "      <td>446.000000</td>\n",
       "      <td>0.383838</td>\n",
       "      <td>2.308642</td>\n",
       "      <td>29.292875</td>\n",
       "      <td>0.523008</td>\n",
       "      <td>0.381594</td>\n",
       "      <td>32.204208</td>\n",
       "    </tr>\n",
       "    <tr>\n",
       "      <th>std</th>\n",
       "      <td>257.353842</td>\n",
       "      <td>0.486592</td>\n",
       "      <td>0.836071</td>\n",
       "      <td>13.210527</td>\n",
       "      <td>1.102743</td>\n",
       "      <td>0.806057</td>\n",
       "      <td>49.693429</td>\n",
       "    </tr>\n",
       "    <tr>\n",
       "      <th>min</th>\n",
       "      <td>1.000000</td>\n",
       "      <td>0.000000</td>\n",
       "      <td>1.000000</td>\n",
       "      <td>0.420000</td>\n",
       "      <td>0.000000</td>\n",
       "      <td>0.000000</td>\n",
       "      <td>0.000000</td>\n",
       "    </tr>\n",
       "    <tr>\n",
       "      <th>25%</th>\n",
       "      <td>223.500000</td>\n",
       "      <td>0.000000</td>\n",
       "      <td>2.000000</td>\n",
       "      <td>22.000000</td>\n",
       "      <td>0.000000</td>\n",
       "      <td>0.000000</td>\n",
       "      <td>7.910400</td>\n",
       "    </tr>\n",
       "    <tr>\n",
       "      <th>50%</th>\n",
       "      <td>446.000000</td>\n",
       "      <td>0.000000</td>\n",
       "      <td>3.000000</td>\n",
       "      <td>26.000000</td>\n",
       "      <td>0.000000</td>\n",
       "      <td>0.000000</td>\n",
       "      <td>14.454200</td>\n",
       "    </tr>\n",
       "    <tr>\n",
       "      <th>75%</th>\n",
       "      <td>668.500000</td>\n",
       "      <td>1.000000</td>\n",
       "      <td>3.000000</td>\n",
       "      <td>37.000000</td>\n",
       "      <td>1.000000</td>\n",
       "      <td>0.000000</td>\n",
       "      <td>31.000000</td>\n",
       "    </tr>\n",
       "    <tr>\n",
       "      <th>max</th>\n",
       "      <td>891.000000</td>\n",
       "      <td>1.000000</td>\n",
       "      <td>3.000000</td>\n",
       "      <td>80.000000</td>\n",
       "      <td>8.000000</td>\n",
       "      <td>6.000000</td>\n",
       "      <td>512.329200</td>\n",
       "    </tr>\n",
       "  </tbody>\n",
       "</table>\n",
       "</div>"
      ],
      "text/plain": [
       "       PassengerId    Survived      Pclass         Age       SibSp  \\\n",
       "count   891.000000  891.000000  891.000000  891.000000  891.000000   \n",
       "mean    446.000000    0.383838    2.308642   29.292875    0.523008   \n",
       "std     257.353842    0.486592    0.836071   13.210527    1.102743   \n",
       "min       1.000000    0.000000    1.000000    0.420000    0.000000   \n",
       "25%     223.500000    0.000000    2.000000   22.000000    0.000000   \n",
       "50%     446.000000    0.000000    3.000000   26.000000    0.000000   \n",
       "75%     668.500000    1.000000    3.000000   37.000000    1.000000   \n",
       "max     891.000000    1.000000    3.000000   80.000000    8.000000   \n",
       "\n",
       "            Parch        Fare  \n",
       "count  891.000000  891.000000  \n",
       "mean     0.381594   32.204208  \n",
       "std      0.806057   49.693429  \n",
       "min      0.000000    0.000000  \n",
       "25%      0.000000    7.910400  \n",
       "50%      0.000000   14.454200  \n",
       "75%      0.000000   31.000000  \n",
       "max      6.000000  512.329200  "
      ]
     },
     "execution_count": 8,
     "metadata": {},
     "output_type": "execute_result"
    }
   ],
   "source": [
    "train.describe()"
   ]
  },
  {
   "cell_type": "markdown",
   "metadata": {
    "execution": {
     "iopub.execute_input": "2022-11-27T17:52:10.192355Z",
     "iopub.status.busy": "2022-11-27T17:52:10.191938Z",
     "iopub.status.idle": "2022-11-27T17:52:10.200319Z",
     "shell.execute_reply": "2022-11-27T17:52:10.198680Z",
     "shell.execute_reply.started": "2022-11-27T17:52:10.192318Z"
    }
   },
   "source": [
    "Mean age changed from `29.699118` to `29.292875`"
   ]
  },
  {
   "cell_type": "markdown",
   "metadata": {},
   "source": [
    "### Dealing with the `Cabin` column"
   ]
  },
  {
   "cell_type": "code",
   "execution_count": 9,
   "metadata": {
    "execution": {
     "iopub.execute_input": "2022-11-27T18:27:21.668740Z",
     "iopub.status.busy": "2022-11-27T18:27:21.667997Z",
     "iopub.status.idle": "2022-11-27T18:27:21.677528Z",
     "shell.execute_reply": "2022-11-27T18:27:21.676333Z",
     "shell.execute_reply.started": "2022-11-27T18:27:21.668699Z"
    }
   },
   "outputs": [
    {
     "data": {
      "text/plain": [
       "array([nan, 'C85', 'C123', 'E46', 'G6', 'C103', 'D56', 'A6',\n",
       "       'C23 C25 C27', 'B78', 'D33', 'B30', 'C52', 'B28', 'C83', 'F33',\n",
       "       'F G73', 'E31', 'A5', 'D10 D12', 'D26', 'C110', 'B58 B60', 'E101',\n",
       "       'F E69', 'D47', 'B86', 'F2', 'C2', 'E33', 'B19', 'A7', 'C49', 'F4',\n",
       "       'A32', 'B4', 'B80', 'A31', 'D36', 'D15', 'C93', 'C78', 'D35',\n",
       "       'C87', 'B77', 'E67', 'B94', 'C125', 'C99', 'C118', 'D7', 'A19',\n",
       "       'B49', 'D', 'C22 C26', 'C106', 'C65', 'E36', 'C54',\n",
       "       'B57 B59 B63 B66', 'C7', 'E34', 'C32', 'B18', 'C124', 'C91', 'E40',\n",
       "       'T', 'C128', 'D37', 'B35', 'E50', 'C82', 'B96 B98', 'E10', 'E44',\n",
       "       'A34', 'C104', 'C111', 'C92', 'E38', 'D21', 'E12', 'E63', 'A14',\n",
       "       'B37', 'C30', 'D20', 'B79', 'E25', 'D46', 'B73', 'C95', 'B38',\n",
       "       'B39', 'B22', 'C86', 'C70', 'A16', 'C101', 'C68', 'A10', 'E68',\n",
       "       'B41', 'A20', 'D19', 'D50', 'D9', 'A23', 'B50', 'A26', 'D48',\n",
       "       'E58', 'C126', 'B71', 'B51 B53 B55', 'D49', 'B5', 'B20', 'F G63',\n",
       "       'C62 C64', 'E24', 'C90', 'C45', 'E8', 'B101', 'D45', 'C46', 'D30',\n",
       "       'E121', 'D11', 'E77', 'F38', 'B3', 'D6', 'B82 B84', 'D17', 'A36',\n",
       "       'B102', 'B69', 'E49', 'C47', 'D28', 'E17', 'A24', 'C50', 'B42',\n",
       "       'C148'], dtype=object)"
      ]
     },
     "execution_count": 9,
     "metadata": {},
     "output_type": "execute_result"
    }
   ],
   "source": [
    "train['Cabin'].unique()"
   ]
  },
  {
   "cell_type": "code",
   "execution_count": 10,
   "metadata": {
    "execution": {
     "iopub.execute_input": "2022-11-27T18:27:21.682146Z",
     "iopub.status.busy": "2022-11-27T18:27:21.681756Z",
     "iopub.status.idle": "2022-11-27T18:27:21.691862Z",
     "shell.execute_reply": "2022-11-27T18:27:21.690393Z",
     "shell.execute_reply.started": "2022-11-27T18:27:21.682112Z"
    }
   },
   "outputs": [
    {
     "data": {
      "text/plain": [
       "'B96 B98'"
      ]
     },
     "execution_count": 10,
     "metadata": {},
     "output_type": "execute_result"
    }
   ],
   "source": [
    "train['Cabin'].mode()[0]"
   ]
  },
  {
   "cell_type": "markdown",
   "metadata": {},
   "source": [
    "- Most common `Cabin` entries are either `B96` or `B98`\n",
    "- Fill missing values with `B96` (random choice)"
   ]
  },
  {
   "cell_type": "code",
   "execution_count": 11,
   "metadata": {
    "execution": {
     "iopub.execute_input": "2022-11-27T18:27:21.693772Z",
     "iopub.status.busy": "2022-11-27T18:27:21.693000Z",
     "iopub.status.idle": "2022-11-27T18:27:21.703717Z",
     "shell.execute_reply": "2022-11-27T18:27:21.702825Z",
     "shell.execute_reply.started": "2022-11-27T18:27:21.693729Z"
    }
   },
   "outputs": [],
   "source": [
    "def fill_cabin(df):\n",
    "    df[['Cabin']] = df[['Cabin']].fillna(value=df['Cabin'].mode()[0])\n",
    "\n",
    "fill_cabin(train)"
   ]
  },
  {
   "cell_type": "markdown",
   "metadata": {
    "execution": {
     "iopub.execute_input": "2022-11-27T17:53:06.447573Z",
     "iopub.status.busy": "2022-11-27T17:53:06.447165Z",
     "iopub.status.idle": "2022-11-27T17:53:06.451586Z",
     "shell.execute_reply": "2022-11-27T17:53:06.450753Z",
     "shell.execute_reply.started": "2022-11-27T17:53:06.447540Z"
    }
   },
   "source": [
    "### Dealing with the `Embarked` column"
   ]
  },
  {
   "cell_type": "markdown",
   "metadata": {
    "execution": {
     "iopub.execute_input": "2022-11-27T17:53:16.147597Z",
     "iopub.status.busy": "2022-11-27T17:53:16.147158Z",
     "iopub.status.idle": "2022-11-27T17:53:16.156905Z",
     "shell.execute_reply": "2022-11-27T17:53:16.153015Z",
     "shell.execute_reply.started": "2022-11-27T17:53:16.147559Z"
    }
   },
   "source": [
    "Same procedure as above. Filling missing values with the mode."
   ]
  },
  {
   "cell_type": "code",
   "execution_count": 12,
   "metadata": {
    "execution": {
     "iopub.execute_input": "2022-11-27T18:27:21.705617Z",
     "iopub.status.busy": "2022-11-27T18:27:21.705182Z",
     "iopub.status.idle": "2022-11-27T18:27:21.715893Z",
     "shell.execute_reply": "2022-11-27T18:27:21.714775Z",
     "shell.execute_reply.started": "2022-11-27T18:27:21.705571Z"
    }
   },
   "outputs": [],
   "source": [
    "def fill_embarked(df):\n",
    "    df[['Embarked']] = df[['Embarked']].fillna(value=df['Embarked'].mode()[0])\n",
    "\n",
    "fill_embarked(train)"
   ]
  },
  {
   "cell_type": "code",
   "execution_count": 13,
   "metadata": {
    "execution": {
     "iopub.execute_input": "2022-11-27T18:27:21.717981Z",
     "iopub.status.busy": "2022-11-27T18:27:21.717168Z",
     "iopub.status.idle": "2022-11-27T18:27:21.732224Z",
     "shell.execute_reply": "2022-11-27T18:27:21.730932Z",
     "shell.execute_reply.started": "2022-11-27T18:27:21.717936Z"
    }
   },
   "outputs": [
    {
     "data": {
      "text/plain": [
       "PassengerId    0\n",
       "Survived       0\n",
       "Pclass         0\n",
       "Name           0\n",
       "Sex            0\n",
       "Age            0\n",
       "SibSp          0\n",
       "Parch          0\n",
       "Ticket         0\n",
       "Fare           0\n",
       "Cabin          0\n",
       "Embarked       0\n",
       "dtype: int64"
      ]
     },
     "execution_count": 13,
     "metadata": {},
     "output_type": "execute_result"
    }
   ],
   "source": [
    "train.isna().sum()"
   ]
  },
  {
   "cell_type": "markdown",
   "metadata": {
    "execution": {
     "iopub.execute_input": "2022-11-27T17:53:38.120629Z",
     "iopub.status.busy": "2022-11-27T17:53:38.120102Z",
     "iopub.status.idle": "2022-11-27T17:53:38.128792Z",
     "shell.execute_reply": "2022-11-27T17:53:38.126996Z",
     "shell.execute_reply.started": "2022-11-27T17:53:38.120591Z"
    }
   },
   "source": [
    "No more missing values."
   ]
  },
  {
   "cell_type": "markdown",
   "metadata": {},
   "source": [
    "### Data visualisation"
   ]
  },
  {
   "cell_type": "code",
   "execution_count": 14,
   "metadata": {
    "execution": {
     "iopub.execute_input": "2022-11-27T18:27:21.734162Z",
     "iopub.status.busy": "2022-11-27T18:27:21.733791Z",
     "iopub.status.idle": "2022-11-27T18:27:22.075423Z",
     "shell.execute_reply": "2022-11-27T18:27:22.074383Z",
     "shell.execute_reply.started": "2022-11-27T18:27:21.734129Z"
    }
   },
   "outputs": [
    {
     "data": {
      "text/plain": [
       "<AxesSubplot:xlabel='Fare', ylabel='Count'>"
      ]
     },
     "execution_count": 14,
     "metadata": {},
     "output_type": "execute_result"
    },
    {
     "data": {
      "image/png": "[encoded data removed]",
      "text/plain": [
       "<Figure size 360x216 with 1 Axes>"
      ]
     },
     "metadata": {
      "needs_background": "light"
     },
     "output_type": "display_data"
    }
   ],
   "source": [
    "fig,ax = plt.subplots(figsize=(5,3))\n",
    "sns.histplot(x='Fare', data=train, bins=50, ax=ax)"
   ]
  },
  {
   "cell_type": "markdown",
   "metadata": {},
   "source": [
    "- `Fare` has a very large distribution - long tail to the right\n",
    "- +1 because log(0) is undefined"
   ]
  },
  {
   "cell_type": "code",
   "execution_count": 15,
   "metadata": {
    "execution": {
     "iopub.execute_input": "2022-11-27T18:27:22.078494Z",
     "iopub.status.busy": "2022-11-27T18:27:22.077734Z",
     "iopub.status.idle": "2022-11-27T18:27:22.393540Z",
     "shell.execute_reply": "2022-11-27T18:27:22.392395Z",
     "shell.execute_reply.started": "2022-11-27T18:27:22.078452Z"
    }
   },
   "outputs": [
    {
     "data": {
      "text/plain": [
       "<AxesSubplot:xlabel='LogFare', ylabel='Count'>"
      ]
     },
     "execution_count": 15,
     "metadata": {},
     "output_type": "execute_result"
    },
    {
     "data": {
      "image/png": "[encoded data removed]",
      "text/plain": [
       "<Figure size 360x216 with 1 Axes>"
      ]
     },
     "metadata": {
      "needs_background": "light"
     },
     "output_type": "display_data"
    }
   ],
   "source": [
    "train['LogFare'] = np.log(train['Fare']+1)\n",
    "\n",
    "fig,ax = plt.subplots(figsize=(5,3))\n",
    "sns.histplot(x='LogFare', data=train, bins=50, ax=ax)"
   ]
  },
  {
   "cell_type": "markdown",
   "metadata": {},
   "source": [
    "Correlation maxtrix to visually see how features compare."
   ]
  },
  {
   "cell_type": "code",
   "execution_count": 16,
   "metadata": {
    "execution": {
     "iopub.execute_input": "2022-11-27T18:27:22.396027Z",
     "iopub.status.busy": "2022-11-27T18:27:22.395644Z",
     "iopub.status.idle": "2022-11-27T18:27:23.091814Z",
     "shell.execute_reply": "2022-11-27T18:27:23.090888Z",
     "shell.execute_reply.started": "2022-11-27T18:27:22.395993Z"
    }
   },
   "outputs": [
    {
     "data": {
      "text/plain": [
       "<AxesSubplot:>"
      ]
     },
     "execution_count": 16,
     "metadata": {},
     "output_type": "execute_result"
    },
    {
     "data": {
      "image/png": "[encoded data removed]",
      "text/plain": [
       "<Figure size 576x432 with 2 Axes>"
      ]
     },
     "metadata": {
      "needs_background": "light"
     },
     "output_type": "display_data"
    }
   ],
   "source": [
    "corr = train.corr()\n",
    "fig,ax = plt.subplots(figsize=(8,6))\n",
    "sns.heatmap(corr, annot=True, ax=ax)"
   ]
  },
  {
   "cell_type": "code",
   "execution_count": 17,
   "metadata": {
    "execution": {
     "iopub.execute_input": "2022-11-27T18:27:23.094087Z",
     "iopub.status.busy": "2022-11-27T18:27:23.093100Z",
     "iopub.status.idle": "2022-11-27T18:27:23.313640Z",
     "shell.execute_reply": "2022-11-27T18:27:23.312397Z",
     "shell.execute_reply.started": "2022-11-27T18:27:23.094050Z"
    }
   },
   "outputs": [
    {
     "data": {
      "text/plain": [
       "<AxesSubplot:xlabel='Survived', ylabel='count'>"
      ]
     },
     "execution_count": 17,
     "metadata": {},
     "output_type": "execute_result"
    },
    {
     "data": {
      "image/png": "[encoded data removed]",
      "text/plain": [
       "<Figure size 432x288 with 1 Axes>"
      ]
     },
     "metadata": {
      "needs_background": "light"
     },
     "output_type": "display_data"
    }
   ],
   "source": [
    "sns.countplot(x='Survived', hue='Sex', data=train)"
   ]
  },
  {
   "cell_type": "code",
   "execution_count": 18,
   "metadata": {
    "execution": {
     "iopub.execute_input": "2022-11-27T18:27:23.315651Z",
     "iopub.status.busy": "2022-11-27T18:27:23.315267Z",
     "iopub.status.idle": "2022-11-27T18:27:23.328731Z",
     "shell.execute_reply": "2022-11-27T18:27:23.327398Z",
     "shell.execute_reply.started": "2022-11-27T18:27:23.315615Z"
    }
   },
   "outputs": [
    {
     "name": "stdout",
     "output_type": "stream",
     "text": [
      "% of males survived = 12.2334455667789\n",
      "% of females survived = 26.15039281705948\n"
     ]
    }
   ],
   "source": [
    "num_of_males = (train['Sex'] == 'male').sum()\n",
    "num_of_females = (train['Sex'] == 'female').sum()\n",
    "\n",
    "males_survived = train.groupby('Sex')['Survived'].sum()['male']\n",
    "females_survived = train.groupby('Sex')['Survived'].sum()['female']\n",
    "\n",
    "print('% of males survived =', 100 * (males_survived / (num_of_females + num_of_males)))\n",
    "print('% of females survived =', 100 * (females_survived / (num_of_females + num_of_males)))"
   ]
  },
  {
   "cell_type": "markdown",
   "metadata": {},
   "source": [
    "- Figure above suggests more famles survived the Titanic disaster\n",
    "- Quick calculation shows ~26% of females survived, while ~12% of males did"
   ]
  },
  {
   "cell_type": "code",
   "execution_count": 19,
   "metadata": {
    "execution": {
     "iopub.execute_input": "2022-11-27T18:27:23.330882Z",
     "iopub.status.busy": "2022-11-27T18:27:23.330410Z",
     "iopub.status.idle": "2022-11-27T18:27:24.012832Z",
     "shell.execute_reply": "2022-11-27T18:27:24.011352Z",
     "shell.execute_reply.started": "2022-11-27T18:27:23.330813Z"
    }
   },
   "outputs": [
    {
     "data": {
      "text/plain": [
       "<seaborn.axisgrid.FacetGrid at 0x7ff3e04b0d50>"
      ]
     },
     "execution_count": 19,
     "metadata": {},
     "output_type": "execute_result"
    },
    {
     "data": {
      "image/png": "[encoded data removed]",
      "text/plain": [
       "<Figure size 411.875x360 with 1 Axes>"
      ]
     },
     "metadata": {
      "needs_background": "light"
     },
     "output_type": "display_data"
    }
   ],
   "source": [
    "sns.displot(data=train, x='Age', hue='Survived')"
   ]
  },
  {
   "cell_type": "markdown",
   "metadata": {},
   "source": [
    "- Simple data visualisation and understanding the data completed\n",
    "- Building neural network from scratch"
   ]
  },
  {
   "cell_type": "markdown",
   "metadata": {},
   "source": [
    "Using `pd.get_dummies()` to create dummy variables."
   ]
  },
  {
   "cell_type": "code",
   "execution_count": 20,
   "metadata": {
    "execution": {
     "iopub.execute_input": "2022-11-27T18:27:24.015024Z",
     "iopub.status.busy": "2022-11-27T18:27:24.014287Z",
     "iopub.status.idle": "2022-11-27T18:27:24.027897Z",
     "shell.execute_reply": "2022-11-27T18:27:24.026706Z",
     "shell.execute_reply.started": "2022-11-27T18:27:24.014983Z"
    }
   },
   "outputs": [],
   "source": [
    "train = pd.get_dummies(train, columns=['Sex', 'Pclass', 'Embarked'])"
   ]
  },
  {
   "cell_type": "code",
   "execution_count": 21,
   "metadata": {
    "execution": {
     "iopub.execute_input": "2022-11-27T18:27:24.029704Z",
     "iopub.status.busy": "2022-11-27T18:27:24.029323Z",
     "iopub.status.idle": "2022-11-27T18:27:24.047382Z",
     "shell.execute_reply": "2022-11-27T18:27:24.045949Z",
     "shell.execute_reply.started": "2022-11-27T18:27:24.029670Z"
    }
   },
   "outputs": [
    {
     "data": {
      "text/html": [
       "<div>\n",
       "<style scoped>\n",
       "    .dataframe tbody tr th:only-of-type {\n",
       "        vertical-align: middle;\n",
       "    }\n",
       "\n",
       "    .dataframe tbody tr th {\n",
       "        vertical-align: top;\n",
       "    }\n",
       "\n",
       "    .dataframe thead th {\n",
       "        text-align: right;\n",
       "    }\n",
       "</style>\n",
       "<table border=\"1\" class=\"dataframe\">\n",
       "  <thead>\n",
       "    <tr style=\"text-align: right;\">\n",
       "      <th></th>\n",
       "      <th>Sex_male</th>\n",
       "      <th>Sex_female</th>\n",
       "      <th>Pclass_1</th>\n",
       "      <th>Pclass_2</th>\n",
       "      <th>Pclass_3</th>\n",
       "      <th>Embarked_C</th>\n",
       "      <th>Embarked_Q</th>\n",
       "      <th>Embarked_S</th>\n",
       "    </tr>\n",
       "  </thead>\n",
       "  <tbody>\n",
       "    <tr>\n",
       "      <th>0</th>\n",
       "      <td>1</td>\n",
       "      <td>0</td>\n",
       "      <td>0</td>\n",
       "      <td>0</td>\n",
       "      <td>1</td>\n",
       "      <td>0</td>\n",
       "      <td>0</td>\n",
       "      <td>1</td>\n",
       "    </tr>\n",
       "    <tr>\n",
       "      <th>1</th>\n",
       "      <td>0</td>\n",
       "      <td>1</td>\n",
       "      <td>1</td>\n",
       "      <td>0</td>\n",
       "      <td>0</td>\n",
       "      <td>1</td>\n",
       "      <td>0</td>\n",
       "      <td>0</td>\n",
       "    </tr>\n",
       "    <tr>\n",
       "      <th>2</th>\n",
       "      <td>0</td>\n",
       "      <td>1</td>\n",
       "      <td>0</td>\n",
       "      <td>0</td>\n",
       "      <td>1</td>\n",
       "      <td>0</td>\n",
       "      <td>0</td>\n",
       "      <td>1</td>\n",
       "    </tr>\n",
       "    <tr>\n",
       "      <th>3</th>\n",
       "      <td>0</td>\n",
       "      <td>1</td>\n",
       "      <td>1</td>\n",
       "      <td>0</td>\n",
       "      <td>0</td>\n",
       "      <td>0</td>\n",
       "      <td>0</td>\n",
       "      <td>1</td>\n",
       "    </tr>\n",
       "    <tr>\n",
       "      <th>4</th>\n",
       "      <td>1</td>\n",
       "      <td>0</td>\n",
       "      <td>0</td>\n",
       "      <td>0</td>\n",
       "      <td>1</td>\n",
       "      <td>0</td>\n",
       "      <td>0</td>\n",
       "      <td>1</td>\n",
       "    </tr>\n",
       "  </tbody>\n",
       "</table>\n",
       "</div>"
      ],
      "text/plain": [
       "   Sex_male  Sex_female  Pclass_1  Pclass_2  Pclass_3  Embarked_C  Embarked_Q  \\\n",
       "0         1           0         0         0         1           0           0   \n",
       "1         0           1         1         0         0           1           0   \n",
       "2         0           1         0         0         1           0           0   \n",
       "3         0           1         1         0         0           0           0   \n",
       "4         1           0         0         0         1           0           0   \n",
       "\n",
       "   Embarked_S  \n",
       "0           1  \n",
       "1           0  \n",
       "2           1  \n",
       "3           1  \n",
       "4           1  "
      ]
     },
     "execution_count": 21,
     "metadata": {},
     "output_type": "execute_result"
    }
   ],
   "source": [
    "added_cols = ['Sex_male', 'Sex_female', 'Pclass_1', 'Pclass_2', 'Pclass_3', 'Embarked_C', 'Embarked_Q', 'Embarked_S']\n",
    "train[added_cols].head()"
   ]
  },
  {
   "cell_type": "markdown",
   "metadata": {},
   "source": [
    "- Create predictors and target variables as PyTorch tensors\n",
    "- Independent variables are the continuous variables of interest plus the dummy variable from above"
   ]
  },
  {
   "cell_type": "code",
   "execution_count": 22,
   "metadata": {
    "execution": {
     "iopub.execute_input": "2022-11-27T18:27:24.049771Z",
     "iopub.status.busy": "2022-11-27T18:27:24.049396Z",
     "iopub.status.idle": "2022-11-27T18:27:24.636727Z",
     "shell.execute_reply": "2022-11-27T18:27:24.635462Z",
     "shell.execute_reply.started": "2022-11-27T18:27:24.049736Z"
    }
   },
   "outputs": [
    {
     "data": {
      "text/plain": [
       "torch.Size([891, 12])"
      ]
     },
     "execution_count": 22,
     "metadata": {},
     "output_type": "execute_result"
    }
   ],
   "source": [
    "from torch import tensor\n",
    "import torch, numpy as np\n",
    "\n",
    "t_dep = tensor(train['Survived'])\n",
    "\n",
    "indep_cols = ['Age', 'SibSp', 'Parch', 'LogFare'] + added_cols\n",
    "t_indep = tensor(train[indep_cols].values, dtype=torch.float)\n",
    "t_indep.shape"
   ]
  },
  {
   "cell_type": "markdown",
   "metadata": {},
   "source": [
    "## Setting up the linear model"
   ]
  },
  {
   "cell_type": "markdown",
   "metadata": {},
   "source": [
    "- Matrix of independent variables created\n",
    "- Dependent variable vector created\n",
    "- Calculate predictions and loss for a simple linear model first\n",
    "- Random numbers in the range `(-0.5,0,5)`"
   ]
  },
  {
   "cell_type": "code",
   "execution_count": 23,
   "metadata": {
    "execution": {
     "iopub.execute_input": "2022-11-27T18:27:24.639215Z",
     "iopub.status.busy": "2022-11-27T18:27:24.638565Z",
     "iopub.status.idle": "2022-11-27T18:27:24.648322Z",
     "shell.execute_reply": "2022-11-27T18:27:24.647056Z",
     "shell.execute_reply.started": "2022-11-27T18:27:24.639178Z"
    }
   },
   "outputs": [
    {
     "data": {
      "text/plain": [
       "tensor([-0.2254,  0.1277, -0.2353, -0.0379,  0.4642, -0.1822, -0.4838, -0.1303,\n",
       "        -0.4325,  0.2094,  0.0460,  0.0887])"
      ]
     },
     "execution_count": 23,
     "metadata": {},
     "output_type": "execute_result"
    }
   ],
   "source": [
    "n_coeff = t_indep.shape[1]\n",
    "coeffs = torch.rand(n_coeff)-0.5\n",
    "coeffs"
   ]
  },
  {
   "cell_type": "markdown",
   "metadata": {},
   "source": [
    "- Predictions are calculated by multiplying each row of the coefficients and then summing them\n",
    "- Dummy variables encapsulate the entire dataset and so no need for bias terms"
   ]
  },
  {
   "cell_type": "code",
   "execution_count": 24,
   "metadata": {
    "execution": {
     "iopub.execute_input": "2022-11-27T18:27:24.650417Z",
     "iopub.status.busy": "2022-11-27T18:27:24.649951Z",
     "iopub.status.idle": "2022-11-27T18:27:24.660617Z",
     "shell.execute_reply": "2022-11-27T18:27:24.659342Z",
     "shell.execute_reply.started": "2022-11-27T18:27:24.650372Z"
    }
   },
   "outputs": [
    {
     "data": {
      "text/plain": [
       "tensor([[-4.9597,  0.1277, -0.0000,  ...,  0.0000,  0.0000,  0.0887],\n",
       "        [-8.5668,  0.1277, -0.0000,  ...,  0.2094,  0.0000,  0.0000],\n",
       "        [-5.8615,  0.0000, -0.0000,  ...,  0.0000,  0.0000,  0.0887],\n",
       "        ...,\n",
       "        [-5.6677,  0.1277, -0.4706,  ...,  0.0000,  0.0000,  0.0887],\n",
       "        [-5.8615,  0.0000, -0.0000,  ...,  0.2094,  0.0000,  0.0000],\n",
       "        [-7.2141,  0.0000, -0.0000,  ...,  0.0000,  0.0460,  0.0000]])"
      ]
     },
     "execution_count": 24,
     "metadata": {},
     "output_type": "execute_result"
    }
   ],
   "source": [
    "t_indep * coeffs"
   ]
  },
  {
   "cell_type": "markdown",
   "metadata": {},
   "source": [
    "- `Age` is significantly larger than the other variables and will have a dominate the predictions\n",
    "- Normalise `Age` by dividing by the `max()`"
   ]
  },
  {
   "cell_type": "code",
   "execution_count": 25,
   "metadata": {
    "execution": {
     "iopub.execute_input": "2022-11-27T18:27:24.662904Z",
     "iopub.status.busy": "2022-11-27T18:27:24.662544Z",
     "iopub.status.idle": "2022-11-27T18:27:24.672625Z",
     "shell.execute_reply": "2022-11-27T18:27:24.671359Z",
     "shell.execute_reply.started": "2022-11-27T18:27:24.662863Z"
    }
   },
   "outputs": [
    {
     "data": {
      "text/plain": [
       "tensor([[-0.0620,  0.0160, -0.0000,  ...,  0.0000,  0.0000,  0.0887],\n",
       "        [-0.1071,  0.0160, -0.0000,  ...,  0.2094,  0.0000,  0.0000],\n",
       "        [-0.0733,  0.0000, -0.0000,  ...,  0.0000,  0.0000,  0.0887],\n",
       "        ...,\n",
       "        [-0.0708,  0.0160, -0.0784,  ...,  0.0000,  0.0000,  0.0887],\n",
       "        [-0.0733,  0.0000, -0.0000,  ...,  0.2094,  0.0000,  0.0000],\n",
       "        [-0.0902,  0.0000, -0.0000,  ...,  0.0000,  0.0460,  0.0000]])"
      ]
     },
     "execution_count": 25,
     "metadata": {},
     "output_type": "execute_result"
    }
   ],
   "source": [
    "vals, indicies = t_indep.max(dim=0)\n",
    "t_indep = t_indep / vals # dividing the matix by a vector\n",
    "t_indep * coeffs"
   ]
  },
  {
   "cell_type": "markdown",
   "metadata": {},
   "source": [
    "Calculate predictions by adding up the rows of the product."
   ]
  },
  {
   "cell_type": "code",
   "execution_count": 26,
   "metadata": {
    "execution": {
     "iopub.execute_input": "2022-11-27T18:27:24.674522Z",
     "iopub.status.busy": "2022-11-27T18:27:24.674149Z",
     "iopub.status.idle": "2022-11-27T18:27:24.681039Z",
     "shell.execute_reply": "2022-11-27T18:27:24.679896Z",
     "shell.execute_reply.started": "2022-11-27T18:27:24.674489Z"
    }
   },
   "outputs": [],
   "source": [
    "preds = (t_indep * coeffs).sum(axis=1)"
   ]
  },
  {
   "cell_type": "code",
   "execution_count": 27,
   "metadata": {
    "execution": {
     "iopub.execute_input": "2022-11-27T18:27:24.682534Z",
     "iopub.status.busy": "2022-11-27T18:27:24.682198Z",
     "iopub.status.idle": "2022-11-27T18:27:24.696028Z",
     "shell.execute_reply": "2022-11-27T18:27:24.695005Z",
     "shell.execute_reply.started": "2022-11-27T18:27:24.682504Z"
    }
   },
   "outputs": [
    {
     "data": {
      "text/plain": [
       "torch.Size([891])"
      ]
     },
     "execution_count": 27,
     "metadata": {},
     "output_type": "execute_result"
    }
   ],
   "source": [
    "preds.shape"
   ]
  },
  {
   "cell_type": "markdown",
   "metadata": {},
   "source": [
    "- Predictions were calculated from random coefficients\n",
    "- Create loss function for gradient descent\n",
    "- Loss function: take average error of the rows - absolute value of the difference between the prediction and the dependent variable"
   ]
  },
  {
   "cell_type": "code",
   "execution_count": 28,
   "metadata": {
    "execution": {
     "iopub.execute_input": "2022-11-27T18:27:24.704132Z",
     "iopub.status.busy": "2022-11-27T18:27:24.703264Z",
     "iopub.status.idle": "2022-11-27T18:27:24.713027Z",
     "shell.execute_reply": "2022-11-27T18:27:24.711668Z",
     "shell.execute_reply.started": "2022-11-27T18:27:24.704094Z"
    }
   },
   "outputs": [
    {
     "data": {
      "text/plain": [
       "tensor(0.6281)"
      ]
     },
     "execution_count": 28,
     "metadata": {},
     "output_type": "execute_result"
    }
   ],
   "source": [
    "loss = torch.abs(preds-t_dep).mean()\n",
    "loss"
   ]
  },
  {
   "cell_type": "markdown",
   "metadata": {},
   "source": [
    "- Create functions for calculating the predicitions and the loss"
   ]
  },
  {
   "cell_type": "code",
   "execution_count": 29,
   "metadata": {
    "execution": {
     "iopub.execute_input": "2022-11-27T18:27:24.715675Z",
     "iopub.status.busy": "2022-11-27T18:27:24.714610Z",
     "iopub.status.idle": "2022-11-27T18:27:24.723037Z",
     "shell.execute_reply": "2022-11-27T18:27:24.722076Z",
     "shell.execute_reply.started": "2022-11-27T18:27:24.715629Z"
    }
   },
   "outputs": [],
   "source": [
    "def calc_preds(coeffs, indeps):\n",
    "    return (indeps * coeffs).sum(axis=1)\n",
    "\n",
    "def calc_loss(coeffs, indeps, deps):\n",
    "    return torch.abs(calc_preds(coeffs, indeps)-deps).mean()"
   ]
  },
  {
   "cell_type": "markdown",
   "metadata": {},
   "source": [
    "### Gradient descent of one epoch\n",
    "- Use PyTorch, `requires_grad_()` on `coeffs` to do a single gradient descent epoch"
   ]
  },
  {
   "cell_type": "code",
   "execution_count": 30,
   "metadata": {
    "execution": {
     "iopub.execute_input": "2022-11-27T18:27:24.724883Z",
     "iopub.status.busy": "2022-11-27T18:27:24.724418Z",
     "iopub.status.idle": "2022-11-27T18:27:24.737042Z",
     "shell.execute_reply": "2022-11-27T18:27:24.735627Z",
     "shell.execute_reply.started": "2022-11-27T18:27:24.724761Z"
    }
   },
   "outputs": [
    {
     "data": {
      "text/plain": [
       "tensor([-0.2254,  0.1277, -0.2353, -0.0379,  0.4642, -0.1822, -0.4838, -0.1303,\n",
       "        -0.4325,  0.2094,  0.0460,  0.0887], requires_grad=True)"
      ]
     },
     "execution_count": 30,
     "metadata": {},
     "output_type": "execute_result"
    }
   ],
   "source": [
    "coeffs.requires_grad_()"
   ]
  },
  {
   "cell_type": "markdown",
   "metadata": {},
   "source": [
    "Calculate loss and PyTorch should keep track of all the steps and so the gradient can be retrieved using `backward()`."
   ]
  },
  {
   "cell_type": "code",
   "execution_count": 31,
   "metadata": {
    "execution": {
     "iopub.execute_input": "2022-11-27T18:27:24.739519Z",
     "iopub.status.busy": "2022-11-27T18:27:24.738612Z",
     "iopub.status.idle": "2022-11-27T18:27:24.749136Z",
     "shell.execute_reply": "2022-11-27T18:27:24.747809Z",
     "shell.execute_reply.started": "2022-11-27T18:27:24.739481Z"
    }
   },
   "outputs": [
    {
     "data": {
      "text/plain": [
       "tensor(0.6281, grad_fn=<MeanBackward0>)"
      ]
     },
     "execution_count": 31,
     "metadata": {},
     "output_type": "execute_result"
    }
   ],
   "source": [
    "loss = calc_loss(coeffs, t_indep, t_dep)\n",
    "loss"
   ]
  },
  {
   "cell_type": "code",
   "execution_count": 32,
   "metadata": {
    "execution": {
     "iopub.execute_input": "2022-11-27T18:27:24.751675Z",
     "iopub.status.busy": "2022-11-27T18:27:24.750612Z",
     "iopub.status.idle": "2022-11-27T18:27:24.757719Z",
     "shell.execute_reply": "2022-11-27T18:27:24.756578Z",
     "shell.execute_reply.started": "2022-11-27T18:27:24.751626Z"
    }
   },
   "outputs": [],
   "source": [
    "loss.backward()"
   ]
  },
  {
   "cell_type": "markdown",
   "metadata": {},
   "source": [
    "Examine the coefficients."
   ]
  },
  {
   "cell_type": "code",
   "execution_count": 33,
   "metadata": {
    "execution": {
     "iopub.execute_input": "2022-11-27T18:27:24.760799Z",
     "iopub.status.busy": "2022-11-27T18:27:24.759912Z",
     "iopub.status.idle": "2022-11-27T18:27:24.770562Z",
     "shell.execute_reply": "2022-11-27T18:27:24.769765Z",
     "shell.execute_reply.started": "2022-11-27T18:27:24.760753Z"
    }
   },
   "outputs": [
    {
     "data": {
      "text/plain": [
       "tensor([-0.1032, -0.0149, -0.0423, -0.1493,  0.1358, -0.3524, -0.1975, -0.0022,\n",
       "        -0.0168, -0.0539, -0.0617, -0.1010])"
      ]
     },
     "execution_count": 33,
     "metadata": {},
     "output_type": "execute_result"
    }
   ],
   "source": [
    "coeffs.grad"
   ]
  },
  {
   "cell_type": "markdown",
   "metadata": {},
   "source": [
    "Everytime `backward()` is called, the gradients are added to the `.grad` attribute."
   ]
  },
  {
   "cell_type": "code",
   "execution_count": 34,
   "metadata": {
    "execution": {
     "iopub.execute_input": "2022-11-27T18:27:24.772365Z",
     "iopub.status.busy": "2022-11-27T18:27:24.772002Z",
     "iopub.status.idle": "2022-11-27T18:27:24.784287Z",
     "shell.execute_reply": "2022-11-27T18:27:24.782562Z",
     "shell.execute_reply.started": "2022-11-27T18:27:24.772332Z"
    }
   },
   "outputs": [
    {
     "data": {
      "text/plain": [
       "tensor([-0.2064, -0.0297, -0.0845, -0.2985,  0.2716, -0.7048, -0.3951, -0.0045,\n",
       "        -0.0337, -0.1077, -0.1235, -0.2020])"
      ]
     },
     "execution_count": 34,
     "metadata": {},
     "output_type": "execute_result"
    }
   ],
   "source": [
    "loss = calc_loss(coeffs, t_indep, t_dep)\n",
    "loss.backward()\n",
    "coeffs.grad"
   ]
  },
  {
   "cell_type": "markdown",
   "metadata": {},
   "source": [
    "After using the gradients for gradient descent, they must be reset back to zero."
   ]
  },
  {
   "cell_type": "code",
   "execution_count": 35,
   "metadata": {
    "execution": {
     "iopub.execute_input": "2022-11-27T18:27:24.787363Z",
     "iopub.status.busy": "2022-11-27T18:27:24.786793Z",
     "iopub.status.idle": "2022-11-27T18:27:24.796781Z",
     "shell.execute_reply": "2022-11-27T18:27:24.795545Z",
     "shell.execute_reply.started": "2022-11-27T18:27:24.787312Z"
    }
   },
   "outputs": [
    {
     "name": "stdout",
     "output_type": "stream",
     "text": [
      "tensor(0.5618)\n"
     ]
    }
   ],
   "source": [
    "loss = calc_loss(coeffs, t_indep, t_dep)\n",
    "loss.backward()\n",
    "with torch.no_grad():\n",
    "    coeffs.sub_(coeffs.grad * 0.1)\n",
    "    coeffs.grad.zero_()\n",
    "    print(calc_loss(coeffs, t_indep, t_dep))"
   ]
  },
  {
   "cell_type": "markdown",
   "metadata": {},
   "source": [
    "Train a linear model and use `RandomSplitter` from `fastai.data.transforms` to hold out a validation set for calculating metrics."
   ]
  },
  {
   "cell_type": "code",
   "execution_count": 36,
   "metadata": {
    "execution": {
     "iopub.execute_input": "2022-11-27T18:27:24.799253Z",
     "iopub.status.busy": "2022-11-27T18:27:24.798328Z",
     "iopub.status.idle": "2022-11-27T18:27:24.955125Z",
     "shell.execute_reply": "2022-11-27T18:27:24.954011Z",
     "shell.execute_reply.started": "2022-11-27T18:27:24.799217Z"
    }
   },
   "outputs": [],
   "source": [
    "from fastai.data.transforms import RandomSplitter\n",
    "trn_split,val_split=RandomSplitter()(train)"
   ]
  },
  {
   "cell_type": "markdown",
   "metadata": {},
   "source": [
    "Apply indicies to the independent and dependent variables."
   ]
  },
  {
   "cell_type": "code",
   "execution_count": 37,
   "metadata": {
    "execution": {
     "iopub.execute_input": "2022-11-27T18:27:24.957020Z",
     "iopub.status.busy": "2022-11-27T18:27:24.956454Z",
     "iopub.status.idle": "2022-11-27T18:27:24.969671Z",
     "shell.execute_reply": "2022-11-27T18:27:24.968382Z",
     "shell.execute_reply.started": "2022-11-27T18:27:24.956985Z"
    }
   },
   "outputs": [
    {
     "data": {
      "text/plain": [
       "(713, 178)"
      ]
     },
     "execution_count": 37,
     "metadata": {},
     "output_type": "execute_result"
    }
   ],
   "source": [
    "trn_indep,val_indep = t_indep[trn_split],t_indep[val_split]\n",
    "trn_dep,val_dep = t_dep[trn_split],t_dep[val_split]\n",
    "len(trn_indep),len(val_indep)"
   ]
  },
  {
   "cell_type": "markdown",
   "metadata": {},
   "source": [
    "Wrap it all up in a function."
   ]
  },
  {
   "cell_type": "code",
   "execution_count": 38,
   "metadata": {
    "execution": {
     "iopub.execute_input": "2022-11-27T18:27:24.971394Z",
     "iopub.status.busy": "2022-11-27T18:27:24.970989Z",
     "iopub.status.idle": "2022-11-27T18:27:24.980302Z",
     "shell.execute_reply": "2022-11-27T18:27:24.978750Z",
     "shell.execute_reply.started": "2022-11-27T18:27:24.971333Z"
    }
   },
   "outputs": [],
   "source": [
    "def update_coeffs(coeffs, lr):\n",
    "    coeffs.sub_(coeffs.grad * lr)\n",
    "    coeffs.grad.zero_()"
   ]
  },
  {
   "cell_type": "code",
   "execution_count": 39,
   "metadata": {
    "execution": {
     "iopub.execute_input": "2022-11-27T18:27:24.982338Z",
     "iopub.status.busy": "2022-11-27T18:27:24.981829Z",
     "iopub.status.idle": "2022-11-27T18:27:24.992943Z",
     "shell.execute_reply": "2022-11-27T18:27:24.991526Z",
     "shell.execute_reply.started": "2022-11-27T18:27:24.982286Z"
    }
   },
   "outputs": [],
   "source": [
    "def one_epoch(coeffs, lr):\n",
    "    loss = calc_loss(coeffs, trn_indep, trn_dep)\n",
    "    loss.backward()\n",
    "    with torch.no_grad(): update_coeffs(coeffs, lr)\n",
    "    print(f\"{loss:.3f}\", end=\"; \")"
   ]
  },
  {
   "cell_type": "code",
   "execution_count": 40,
   "metadata": {
    "execution": {
     "iopub.execute_input": "2022-11-27T18:27:24.995016Z",
     "iopub.status.busy": "2022-11-27T18:27:24.994602Z",
     "iopub.status.idle": "2022-11-27T18:27:25.006406Z",
     "shell.execute_reply": "2022-11-27T18:27:25.005102Z",
     "shell.execute_reply.started": "2022-11-27T18:27:24.994979Z"
    }
   },
   "outputs": [],
   "source": [
    "def init_coeffs(): \n",
    "    return (torch.rand(n_coeff)-0.5).requires_grad_()"
   ]
  },
  {
   "cell_type": "markdown",
   "metadata": {},
   "source": [
    "Use functions to train the model."
   ]
  },
  {
   "cell_type": "code",
   "execution_count": 41,
   "metadata": {
    "execution": {
     "iopub.execute_input": "2022-11-27T18:27:25.008651Z",
     "iopub.status.busy": "2022-11-27T18:27:25.008008Z",
     "iopub.status.idle": "2022-11-27T18:27:25.025673Z",
     "shell.execute_reply": "2022-11-27T18:27:25.023951Z",
     "shell.execute_reply.started": "2022-11-27T18:27:25.008611Z"
    }
   },
   "outputs": [
    {
     "name": "stdout",
     "output_type": "stream",
     "text": [
      "0.533; 0.496; 0.470; 0.447; 0.423; 0.400; 0.378; 0.363; 0.349; 0.350; 0.312; 0.316; 0.301; 0.306; 0.284; 0.285; 0.279; 0.283; 0.268; 0.267; "
     ]
    }
   ],
   "source": [
    "def train_model(epochs=30, lr=0.01):\n",
    "    torch.manual_seed(442)\n",
    "    coeffs = init_coeffs()\n",
    "    for i in range(epochs): one_epoch(coeffs, lr=lr)\n",
    "    return coeffs\n",
    "\n",
    "coeffs = train_model(20, lr=0.2)"
   ]
  },
  {
   "cell_type": "markdown",
   "metadata": {},
   "source": [
    "Coefficients are decreasing - model is training."
   ]
  },
  {
   "cell_type": "code",
   "execution_count": 42,
   "metadata": {
    "execution": {
     "iopub.execute_input": "2022-11-27T18:27:25.027884Z",
     "iopub.status.busy": "2022-11-27T18:27:25.027387Z",
     "iopub.status.idle": "2022-11-27T18:27:25.040397Z",
     "shell.execute_reply": "2022-11-27T18:27:25.039233Z",
     "shell.execute_reply.started": "2022-11-27T18:27:25.027810Z"
    }
   },
   "outputs": [
    {
     "data": {
      "text/plain": [
       "{'Age': tensor(-0.2944),\n",
       " 'SibSp': tensor(0.0852),\n",
       " 'Parch': tensor(0.2299),\n",
       " 'LogFare': tensor(-0.0031),\n",
       " 'Sex_male': tensor(-0.4927),\n",
       " 'Sex_female': tensor(0.2861),\n",
       " 'Pclass_1': tensor(0.6744),\n",
       " 'Pclass_2': tensor(0.4454),\n",
       " 'Pclass_3': tensor(0.3326),\n",
       " 'Embarked_C': tensor(0.1185),\n",
       " 'Embarked_Q': tensor(0.2512),\n",
       " 'Embarked_S': tensor(0.1353)}"
      ]
     },
     "execution_count": 42,
     "metadata": {},
     "output_type": "execute_result"
    }
   ],
   "source": [
    "def show_coeffs(): \n",
    "    return dict(zip(indep_cols, coeffs.requires_grad_(False)))\n",
    "show_coeffs()"
   ]
  },
  {
   "cell_type": "markdown",
   "metadata": {},
   "source": [
    "Measuring the accuracy.\n",
    "\n",
    "Accuracy - proportion of rows where model correctly predict survival."
   ]
  },
  {
   "cell_type": "code",
   "execution_count": 43,
   "metadata": {
    "execution": {
     "iopub.execute_input": "2022-11-27T18:27:25.042410Z",
     "iopub.status.busy": "2022-11-27T18:27:25.041932Z",
     "iopub.status.idle": "2022-11-27T18:27:25.049111Z",
     "shell.execute_reply": "2022-11-27T18:27:25.047573Z",
     "shell.execute_reply.started": "2022-11-27T18:27:25.042365Z"
    }
   },
   "outputs": [],
   "source": [
    "preds = calc_preds(coeffs, val_indep)"
   ]
  },
  {
   "cell_type": "markdown",
   "metadata": {},
   "source": [
    "A score over `0.5` is predicted to survive. Below `0.5` did not survive."
   ]
  },
  {
   "cell_type": "code",
   "execution_count": 44,
   "metadata": {
    "execution": {
     "iopub.execute_input": "2022-11-27T18:27:25.051220Z",
     "iopub.status.busy": "2022-11-27T18:27:25.050657Z",
     "iopub.status.idle": "2022-11-27T18:27:25.068925Z",
     "shell.execute_reply": "2022-11-27T18:27:25.067873Z",
     "shell.execute_reply.started": "2022-11-27T18:27:25.051150Z"
    }
   },
   "outputs": [
    {
     "data": {
      "text/plain": [
       "tensor([ True,  True,  True,  True,  True,  True,  True,  True, False, False,\n",
       "         True,  True, False, False,  True,  True,  True, False, False,  True,\n",
       "        False,  True,  True, False,  True,  True, False,  True,  True,  True,\n",
       "         True,  True,  True,  True,  True,  True,  True,  True, False,  True,\n",
       "         True,  True,  True,  True, False,  True, False, False,  True, False,\n",
       "         True, False,  True, False,  True,  True,  True,  True, False, False,\n",
       "         True,  True,  True,  True, False,  True,  True, False, False,  True,\n",
       "         True,  True,  True,  True,  True, False, False,  True,  True,  True,\n",
       "         True, False,  True, False, False,  True,  True,  True,  True, False,\n",
       "         True, False,  True,  True,  True,  True,  True,  True, False,  True,\n",
       "         True,  True,  True,  True, False,  True,  True,  True,  True,  True,\n",
       "         True,  True,  True,  True,  True,  True,  True,  True,  True,  True,\n",
       "        False,  True,  True,  True, False,  True,  True,  True,  True, False,\n",
       "         True,  True, False,  True,  True,  True,  True,  True,  True,  True,\n",
       "        False,  True,  True, False,  True,  True,  True, False,  True,  True,\n",
       "        False,  True,  True, False, False, False, False, False,  True, False,\n",
       "         True,  True, False, False, False,  True,  True,  True, False, False,\n",
       "         True,  True,  True,  True,  True,  True, False,  True])"
      ]
     },
     "execution_count": 44,
     "metadata": {},
     "output_type": "execute_result"
    }
   ],
   "source": [
    "results = val_dep.bool()==(preds>0.5)\n",
    "results"
   ]
  },
  {
   "cell_type": "code",
   "execution_count": 45,
   "metadata": {
    "execution": {
     "iopub.execute_input": "2022-11-27T18:27:25.071115Z",
     "iopub.status.busy": "2022-11-27T18:27:25.070363Z",
     "iopub.status.idle": "2022-11-27T18:27:25.079636Z",
     "shell.execute_reply": "2022-11-27T18:27:25.078401Z",
     "shell.execute_reply.started": "2022-11-27T18:27:25.071073Z"
    }
   },
   "outputs": [
    {
     "data": {
      "text/plain": [
       "tensor(0.7191)"
      ]
     },
     "execution_count": 45,
     "metadata": {},
     "output_type": "execute_result"
    }
   ],
   "source": [
    "results.float().mean()"
   ]
  },
  {
   "cell_type": "markdown",
   "metadata": {},
   "source": [
    "~80% accuracy. Wrap it all in a function."
   ]
  },
  {
   "cell_type": "code",
   "execution_count": 46,
   "metadata": {
    "execution": {
     "iopub.execute_input": "2022-11-27T18:27:25.082342Z",
     "iopub.status.busy": "2022-11-27T18:27:25.081370Z",
     "iopub.status.idle": "2022-11-27T18:27:25.093723Z",
     "shell.execute_reply": "2022-11-27T18:27:25.092722Z",
     "shell.execute_reply.started": "2022-11-27T18:27:25.082289Z"
    }
   },
   "outputs": [
    {
     "data": {
      "text/plain": [
       "tensor(0.7191)"
      ]
     },
     "execution_count": 46,
     "metadata": {},
     "output_type": "execute_result"
    }
   ],
   "source": [
    "def acc(coeffs): \n",
    "    return (val_dep.bool()==(calc_preds(coeffs, val_indep)>0.5)).float().mean()\n",
    "acc(coeffs)"
   ]
  },
  {
   "cell_type": "markdown",
   "metadata": {},
   "source": [
    "### Using a sigmoid function to improve accuracy"
   ]
  },
  {
   "cell_type": "markdown",
   "metadata": {},
   "source": [
    "The main reason why we use sigmoid function is because it exists between (0 to 1). Therefore, it is especially used for models where we have to predict the probability as an output. Since probability of anything exists only between the range of 0 and 1, sigmoid is the right choice.\n",
    "\n",
    "Below is a plot of the function."
   ]
  },
  {
   "cell_type": "code",
   "execution_count": 47,
   "metadata": {
    "execution": {
     "iopub.execute_input": "2022-11-27T18:27:25.095167Z",
     "iopub.status.busy": "2022-11-27T18:27:25.094781Z",
     "iopub.status.idle": "2022-11-27T18:27:25.802326Z",
     "shell.execute_reply": "2022-11-27T18:27:25.801009Z",
     "shell.execute_reply.started": "2022-11-27T18:27:25.095135Z"
    }
   },
   "outputs": [
    {
     "data": {
      "image/png": "[encoded data removed]",
      "text/plain": [
       "<Figure size 432x288 with 1 Axes>"
      ]
     },
     "metadata": {
      "needs_background": "light"
     },
     "output_type": "display_data"
    },
    {
     "data": {
      "text/plain": [
       "<sympy.plotting.plot.Plot at 0x7ff3c523a0d0>"
      ]
     },
     "execution_count": 47,
     "metadata": {},
     "output_type": "execute_result"
    }
   ],
   "source": [
    "import sympy\n",
    "sympy.plot(\"1/(1+exp(-x))\", xlim=(-5,5))"
   ]
  },
  {
   "cell_type": "code",
   "execution_count": 48,
   "metadata": {
    "execution": {
     "iopub.execute_input": "2022-11-27T18:27:25.805158Z",
     "iopub.status.busy": "2022-11-27T18:27:25.804194Z",
     "iopub.status.idle": "2022-11-27T18:27:25.811443Z",
     "shell.execute_reply": "2022-11-27T18:27:25.810140Z",
     "shell.execute_reply.started": "2022-11-27T18:27:25.805115Z"
    }
   },
   "outputs": [],
   "source": [
    "# using sigmoid from PyTorch\n",
    "def calc_preds(coeffs, indeps): \n",
    "    return torch.sigmoid((indeps*coeffs).sum(axis=1))"
   ]
  },
  {
   "cell_type": "markdown",
   "metadata": {},
   "source": [
    "Train model with sigmoid function."
   ]
  },
  {
   "cell_type": "code",
   "execution_count": 49,
   "metadata": {
    "execution": {
     "iopub.execute_input": "2022-11-27T18:27:25.813521Z",
     "iopub.status.busy": "2022-11-27T18:27:25.812993Z",
     "iopub.status.idle": "2022-11-27T18:27:25.832890Z",
     "shell.execute_reply": "2022-11-27T18:27:25.831386Z",
     "shell.execute_reply.started": "2022-11-27T18:27:25.813485Z"
    }
   },
   "outputs": [
    {
     "name": "stdout",
     "output_type": "stream",
     "text": [
      "0.512; 0.309; 0.289; 0.203; 0.185; 0.182; 0.182; 0.181; 0.181; 0.180; 0.180; 0.180; 0.180; 0.179; 0.179; 0.179; 0.179; 0.179; 0.179; 0.179; 0.179; 0.179; 0.179; 0.178; 0.178; 0.178; 0.178; 0.178; 0.178; 0.178; "
     ]
    }
   ],
   "source": [
    "coeffs = train_model(lr=100)"
   ]
  },
  {
   "cell_type": "code",
   "execution_count": 50,
   "metadata": {
    "execution": {
     "iopub.execute_input": "2022-11-27T18:27:25.835606Z",
     "iopub.status.busy": "2022-11-27T18:27:25.834728Z",
     "iopub.status.idle": "2022-11-27T18:27:25.843005Z",
     "shell.execute_reply": "2022-11-27T18:27:25.842133Z",
     "shell.execute_reply.started": "2022-11-27T18:27:25.835555Z"
    }
   },
   "outputs": [
    {
     "data": {
      "text/plain": [
       "tensor(0.7640)"
      ]
     },
     "execution_count": 50,
     "metadata": {},
     "output_type": "execute_result"
    }
   ],
   "source": [
    "acc(coeffs)"
   ]
  },
  {
   "cell_type": "markdown",
   "metadata": {},
   "source": [
    "Improvement on accuracy when compared with the previous approach."
   ]
  },
  {
   "cell_type": "code",
   "execution_count": null,
   "metadata": {},
   "outputs": [],
   "source": []
  }
 ],
 "metadata": {
  "kernelspec": {
   "display_name": "Python 3",
   "language": "python",
   "name": "python3"
  },
  "language_info": {
   "codemirror_mode": {
    "name": "ipython",
    "version": 3
   },
   "file_extension": ".py",
   "mimetype": "text/x-python",
   "name": "python",
   "nbconvert_exporter": "python",
   "pygments_lexer": "ipython3",
   "version": "3.9.2"
  }
 },
 "nbformat": 4,
 "nbformat_minor": 4
}
