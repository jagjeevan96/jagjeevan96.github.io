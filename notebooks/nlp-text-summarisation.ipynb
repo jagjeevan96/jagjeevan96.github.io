{
 "cells": [
  {
   "cell_type": "markdown",
   "metadata": {},
   "source": [
    "# Text Summarisation with NLP"
   ]
  },
  {
   "cell_type": "markdown",
   "metadata": {},
   "source": [
    "## Extraction vs Abstraction\n",
    "\n",
    "- Abstraction is to generate a summary based on the text, which could include words/phrases not in the original text\n",
    "- Extraction is to pull out certain words/phrases from the text (less complex than abstraction)\n",
    "- Unsupervised learning approaches are commonly used"
   ]
  },
  {
   "cell_type": "markdown",
   "metadata": {},
   "source": [
    "Find some text."
   ]
  },
  {
   "cell_type": "code",
   "execution_count": 1,
   "metadata": {
    "execution": {
     "iopub.execute_input": "2022-12-03T15:28:51.051768Z",
     "iopub.status.busy": "2022-12-03T15:28:51.051042Z",
     "iopub.status.idle": "2022-12-03T15:28:51.062168Z",
     "shell.execute_reply": "2022-12-03T15:28:51.061031Z",
     "shell.execute_reply.started": "2022-12-03T15:28:51.051658Z"
    }
   },
   "outputs": [],
   "source": [
    "url = 'https://news.sky.com/story/hawaiis-mauna-loa-molten-lava-threatens-to-block-main-highway-as-tourists-flock-to-catch-a-glimpse-of-volcano-12760860'"
   ]
  },
  {
   "cell_type": "markdown",
   "metadata": {},
   "source": [
    "Use `BeautifulSoup`"
   ]
  },
  {
   "cell_type": "code",
   "execution_count": 2,
   "metadata": {
    "execution": {
     "iopub.execute_input": "2022-12-03T15:28:51.064035Z",
     "iopub.status.busy": "2022-12-03T15:28:51.063703Z",
     "iopub.status.idle": "2022-12-03T15:28:52.516518Z",
     "shell.execute_reply": "2022-12-03T15:28:52.515428Z",
     "shell.execute_reply.started": "2022-12-03T15:28:51.064006Z"
    }
   },
   "outputs": [
    {
     "data": {
      "text/plain": [
       "'   Skip to content      Sky News - back to home           Watch Live     Menu          Home   UK   World   Politics   US   Climate   Science & Tech   Business   Ents & Arts   Travel   Offbeat   Analysis   Data & Forensics   Videos   Weather     More   Home   UK   World   Politics   US   Climate   Science & Tech   Business   Ents & Arts   Travel   Offbeat   Analysis   Data & Forensics   Videos   Weather                            Hawaii\\'s Mauna Loa: Molten lava threatens to block main highway as tourists flock to catch a glimpse of volcano  The molten rock could make the road impassable and force drivers to find alternative coastal routes in the north and south, adding hours to commute times.          Lucia Binding   News reporter @luciabinding        Saturday 3 December 2022 11:49, UK              Please use Chrome browser for a more accessible video player     0:44       Glowing lava oozes from the eruption                                            Why you can trust Sky News    Hawaii\\'s residents are bracing for further disruption if lava from Mauna Loa volcano slides across a key highway and blocks the quickest route connecting two sides of the island. It comes after the spectacle of incandescent lava spewing from the volcano last Sunday for the first time in 38 years has attracted thousands of visitors to the city of Hilo.     But now, the molten rock could make the road impassable and force drivers to find alternative coastal routes in the north and south, adding hours to commute times.       Image:  People gather to observe the eruption of the Mauna Loa volcano in Hawaii     The lava is oozing slowly at a rate that may reach the road next week, but its unpredictable path might change course or the flow could stop completely and spare the highway. US Geological Survey scientists said the slow-moving flow was coursing around 2.7 miles (4.3km) from the road on Friday.       Earlier this week, the state Department of Transportation took steps to remove potential traffic obstacles on the northern coastal route by reopening a lane across Nanue Bridge that was closed for repairs. Geologists from the Hawaiian Volcano Observatory said if Mauna Loa follows historical patterns, the eruption is expected to continue for one to two weeks.    More on Hawaii        Dramatic lava flows from Hawaii\\'s Mauna Loa volcano attracts crowds taking selfies         Mauna Loa eruption: Hawaii residents told to prepare for evacuation amid gas and ash warnings         Hawaii\\'s Mauna Loa: World\\'s largest active volcano erupts for the first time in nearly four decades        Related Topics:  Hawaii       Traffic has since clogged the road as people try to get a glimpse of the lava. Hawaii police said a handful of resulting accidents included a two-vehicle crash that sent two people to the hospital with \"not serious injuries\".           Advertisement               Image:  The molten rock has attracted thousands of tourists to the area            Hawaii Democrats Ed Case and Kaiali\\'i Kahele sent a letter to President Joe Biden saying Hawaii County would require \"immediate help\" to keep island communities safe if lava flow blocks the highway. They noted that restricted access could affect emergency services as one of the island\\'s primary hospitals is on the east side. Meanwhile, hotels in and around Hilo are getting fully booked in what is usually a slower time of the year for business, while helicopter tours of Mauna Loa are also in high demand since the eruption.        Image:  Traffic has since clogged the road as people try to get a glimpse of the lava            Marian Somalinog, who staffs the front desk at the Castle Hilo Hawaiian Hotel, said sales for rooms have \"boomed\". \"We\\'re sold out until after Christmas,\" she added, attributing the increase to people wanting to watch the streams of bright orange molten rock gush from Mauna Loa - a shield volcano whose name means \"Long Mountain\" in Hawaiian - which can be seen from parts of the hotel. The period between Thanksgiving and Christmas is typically quiet for Hawaii\\'s travel industry, but this week thousands of cars have caused traffic jams on Route 200, known as the Saddle Road, which connects the cities of Hilo on the east side of Hawaii Island and Kailua-Kona on the west side.      Related Topics  Hawaii                       Facebook    Twitter    YouTube    Instagram        About Sky News     About Us    Sky Data    Sky News International    Sky News Library Sales    Site Map    Editorial Guidelines    Supreme Court Live    Sky News Board      Sky News Services     Sky News RSS    Sky News For Your Phone    Sky News Radio      Sky Channels     Sky 1    Sky Witness    Sky Atlantic    Sky Arts    Sky Cinema    Sky Sports      More Sky Sites     NOW    Sky Zero    Sky Academy Studios    Bigger Picture    Sky Group    Sky Bet    Sky.com    Sky News Arabia    Advertise With Us          Terms & Conditions    Privacy & Cookies    Privacy Options    Accessibility    Contact Us      © 2022 Sky UK                  '"
      ]
     },
     "execution_count": 2,
     "metadata": {},
     "output_type": "execute_result"
    }
   ],
   "source": [
    "import urllib.request\n",
    "from bs4 import BeautifulSoup\n",
    "from bs4.element import Comment\n",
    "\n",
    "def tag_visible(element):\n",
    "    if element.parent.name in ['style', 'script', 'head', 'title', 'meta', '[document]']:\n",
    "        return False\n",
    "    if isinstance(element, Comment):\n",
    "        return False\n",
    "    return True\n",
    "\n",
    "def text_from_html(url):\n",
    "    soup = BeautifulSoup(url, 'html.parser')\n",
    "    texts = soup.findAll(text=True)\n",
    "    visible_texts = filter(tag_visible, texts)  \n",
    "    return u\" \".join(t.strip() for t in visible_texts)\n",
    "\n",
    "text = urllib.request.urlopen(url).read()\n",
    "text = text_from_html(text)\n",
    "text"
   ]
  },
  {
   "cell_type": "markdown",
   "metadata": {},
   "source": [
    "- Difficult to filter out paragraphs that are not in the main article\n",
    "- Finding text needs to be applied to *any* webpage and since every webpage has a different structure a sustainable method is needed\n",
    "- Try `trafilatura` instead"
   ]
  },
  {
   "cell_type": "code",
   "execution_count": 3,
   "metadata": {
    "execution": {
     "iopub.execute_input": "2022-12-03T15:28:52.518142Z",
     "iopub.status.busy": "2022-12-03T15:28:52.517815Z",
     "iopub.status.idle": "2022-12-03T15:29:04.012886Z",
     "shell.execute_reply": "2022-12-03T15:29:04.011519Z",
     "shell.execute_reply.started": "2022-12-03T15:28:52.518113Z"
    }
   },
   "outputs": [
    {
     "name": "stdout",
     "output_type": "stream",
     "text": [
      "Requirement already satisfied: trafilatura in /opt/conda/lib/python3.7/site-packages (1.4.0)\n",
      "Requirement already satisfied: charset-normalizer>=2.1.1 in /opt/conda/lib/python3.7/site-packages (from trafilatura) (2.1.1)\n",
      "Requirement already satisfied: justext>=3.0.0 in /opt/conda/lib/python3.7/site-packages (from trafilatura) (3.0.0)\n",
      "Requirement already satisfied: courlan>=0.8.3 in /opt/conda/lib/python3.7/site-packages (from trafilatura) (0.8.3)\n",
      "Requirement already satisfied: certifi in /opt/conda/lib/python3.7/site-packages (from trafilatura) (2022.9.24)\n",
      "Requirement already satisfied: urllib3<2,>=1.26 in /opt/conda/lib/python3.7/site-packages (from trafilatura) (1.26.12)\n",
      "Requirement already satisfied: htmldate>=1.3.2 in /opt/conda/lib/python3.7/site-packages (from trafilatura) (1.4.0)\n",
      "Requirement already satisfied: lxml>=4.6.4 in /opt/conda/lib/python3.7/site-packages (from trafilatura) (4.9.1)\n",
      "Requirement already satisfied: langcodes>=3.3.0 in /opt/conda/lib/python3.7/site-packages (from courlan>=0.8.3->trafilatura) (3.3.0)\n",
      "Requirement already satisfied: tld>=0.12.6 in /opt/conda/lib/python3.7/site-packages (from courlan>=0.8.3->trafilatura) (0.12.6)\n",
      "Collecting charset-normalizer>=2.1.1\n",
      "  Using cached charset_normalizer-3.0.1-cp37-cp37m-manylinux_2_17_x86_64.manylinux2014_x86_64.whl (170 kB)\n",
      "Requirement already satisfied: python-dateutil>=2.8.2 in /opt/conda/lib/python3.7/site-packages (from htmldate>=1.3.2->trafilatura) (2.8.2)\n",
      "Requirement already satisfied: dateparser>=1.1.2 in /opt/conda/lib/python3.7/site-packages (from htmldate>=1.3.2->trafilatura) (1.1.4)\n",
      "Requirement already satisfied: regex!=2019.02.19,!=2021.8.27 in /opt/conda/lib/python3.7/site-packages (from dateparser>=1.1.2->htmldate>=1.3.2->trafilatura) (2021.11.10)\n",
      "Requirement already satisfied: tzlocal in /opt/conda/lib/python3.7/site-packages (from dateparser>=1.1.2->htmldate>=1.3.2->trafilatura) (4.2)\n",
      "Requirement already satisfied: pytz in /opt/conda/lib/python3.7/site-packages (from dateparser>=1.1.2->htmldate>=1.3.2->trafilatura) (2022.1)\n",
      "Requirement already satisfied: six>=1.5 in /opt/conda/lib/python3.7/site-packages (from python-dateutil>=2.8.2->htmldate>=1.3.2->trafilatura) (1.15.0)\n",
      "Requirement already satisfied: backports.zoneinfo in /opt/conda/lib/python3.7/site-packages (from tzlocal->dateparser>=1.1.2->htmldate>=1.3.2->trafilatura) (0.2.1)\n",
      "Requirement already satisfied: pytz-deprecation-shim in /opt/conda/lib/python3.7/site-packages (from tzlocal->dateparser>=1.1.2->htmldate>=1.3.2->trafilatura) (0.1.0.post0)\n",
      "Requirement already satisfied: tzdata in /opt/conda/lib/python3.7/site-packages (from pytz-deprecation-shim->tzlocal->dateparser>=1.1.2->htmldate>=1.3.2->trafilatura) (2022.5)\n",
      "Installing collected packages: charset-normalizer\n",
      "  Attempting uninstall: charset-normalizer\n",
      "    Found existing installation: charset-normalizer 2.1.1\n",
      "    Uninstalling charset-normalizer-2.1.1:\n",
      "      Successfully uninstalled charset-normalizer-2.1.1\n",
      "\u001b[31mERROR: pip's dependency resolver does not currently take into account all the packages that are installed. This behaviour is the source of the following dependency conflicts.\n",
      "beatrix-jupyterlab 3.1.7 requires google-cloud-bigquery-storage, which is not installed.\n",
      "requests 2.28.1 requires charset-normalizer<3,>=2, but you have charset-normalizer 3.0.1 which is incompatible.\n",
      "pandas-profiling 3.1.0 requires markupsafe~=2.0.1, but you have markupsafe 2.1.1 which is incompatible.\n",
      "google-api-core 1.33.2 requires protobuf!=3.20.0,!=3.20.1,!=4.21.0,!=4.21.1,!=4.21.2,!=4.21.3,!=4.21.4,!=4.21.5,<4.0.0dev,>=3.19.5, but you have protobuf 3.19.4 which is incompatible.\n",
      "gcsfs 2022.5.0 requires fsspec==2022.5.0, but you have fsspec 2022.8.2 which is incompatible.\n",
      "apache-beam 2.40.0 requires dill<0.3.2,>=0.3.1.1, but you have dill 0.3.5.1 which is incompatible.\n",
      "apache-beam 2.40.0 requires pyarrow<8.0.0,>=0.15.1, but you have pyarrow 8.0.0 which is incompatible.\n",
      "allennlp 2.10.0 requires protobuf==3.20.0, but you have protobuf 3.19.4 which is incompatible.\n",
      "aiohttp 3.8.1 requires charset-normalizer<3.0,>=2.0, but you have charset-normalizer 3.0.1 which is incompatible.\n",
      "aiobotocore 2.4.0 requires botocore<1.27.60,>=1.27.59, but you have botocore 1.27.93 which is incompatible.\u001b[0m\u001b[31m\n",
      "\u001b[0mSuccessfully installed charset-normalizer-3.0.1\n",
      "\u001b[33mWARNING: Running pip as the 'root' user can result in broken permissions and conflicting behaviour with the system package manager. It is recommended to use a virtual environment instead: https://pip.pypa.io/warnings/venv\u001b[0m\u001b[33m\n",
      "\u001b[0m"
     ]
    }
   ],
   "source": [
    "!pip install trafilatura"
   ]
  },
  {
   "cell_type": "code",
   "execution_count": 4,
   "metadata": {
    "execution": {
     "iopub.execute_input": "2022-12-03T15:29:04.017011Z",
     "iopub.status.busy": "2022-12-03T15:29:04.016499Z",
     "iopub.status.idle": "2022-12-03T15:29:04.742735Z",
     "shell.execute_reply": "2022-12-03T15:29:04.741197Z",
     "shell.execute_reply.started": "2022-12-03T15:29:04.016977Z"
    }
   },
   "outputs": [
    {
     "data": {
      "text/plain": [
       "'Hawaii\\'s Mauna Loa: Molten lava threatens to block main highway as tourists flock to catch a glimpse of volcano\\nThe molten rock could make the road impassable and force drivers to find alternative coastal routes in the north and south, adding hours to commute times.\\nSaturday 3 December 2022 11:49, UK\\nHawaii\\'s residents are bracing for further disruption if lava from Mauna Loa volcano slides across a key highway and blocks the quickest route connecting two sides of the island.\\nIt comes after the spectacle of incandescent lava spewing from the volcano last Sunday for the first time in 38 years has attracted thousands of visitors to the city of Hilo.\\nBut now, the molten rock could make the road impassable and force drivers to find alternative coastal routes in the north and south, adding hours to commute times.\\nThe lava is oozing slowly at a rate that may reach the road next week, but its unpredictable path might change course or the flow could stop completely and spare the highway.\\nUS Geological Survey scientists said the slow-moving flow was coursing around 2.7 miles (4.3km) from the road on Friday.\\nEarlier this week, the state Department of Transportation took steps to remove potential traffic obstacles on the northern coastal route by reopening a lane across Nanue Bridge that was closed for repairs.\\nGeologists from the Hawaiian Volcano Observatory said if Mauna Loa follows historical patterns, the eruption is expected to continue for one to two weeks.\\nTraffic has since clogged the road as people try to get a glimpse of the lava.\\nHawaii police said a handful of resulting accidents included a two-vehicle crash that sent two people to the hospital with \"not serious injuries\".\\nHawaii Democrats Ed Case and Kaiali\\'i Kahele sent a letter to President Joe Biden saying Hawaii County would require \"immediate help\" to keep island communities safe if lava flow blocks the highway.\\nThey noted that restricted access could affect emergency services as one of the island\\'s primary hospitals is on the east side.\\nMeanwhile, hotels in and around Hilo are getting fully booked in what is usually a slower time of the year for business, while helicopter tours of Mauna Loa are also in high demand since the eruption.\\nMarian Somalinog, who staffs the front desk at the Castle Hilo Hawaiian Hotel, said sales for rooms have \"boomed\".\\n\"We\\'re sold out until after Christmas,\" she added, attributing the increase to people wanting to watch the streams of bright orange molten rock gush from Mauna Loa - a shield volcano whose name means \"Long Mountain\" in Hawaiian - which can be seen from parts of the hotel.\\nThe period between Thanksgiving and Christmas is typically quiet for Hawaii\\'s travel industry, but this week thousands of cars have caused traffic jams on Route 200, known as the Saddle Road, which connects the cities of Hilo on the east side of Hawaii Island and Kailua-Kona on the west side.'"
      ]
     },
     "execution_count": 4,
     "metadata": {},
     "output_type": "execute_result"
    }
   ],
   "source": [
    "import trafilatura\n",
    "def text_from_html(url):\n",
    "    return trafilatura.extract(trafilatura.fetch_url(url))\n",
    "\n",
    "text_from_html(url)"
   ]
  },
  {
   "cell_type": "markdown",
   "metadata": {},
   "source": [
    "-`trafilatura` is able to return clean content of the page as a string and is incredibly fast\n",
    "- [Documentation](https://trafilatura.readthedocs.io/en/latest/)\n",
    "- Split text into sentences\n",
    "- Split sentences into words (or tokens)\n",
    "- Calculate similarity between sentences by comparing tokens in each sentences\n",
    "- Similarity can be calculated as the number of words in each sentence divided by the average sentence length\n",
    "- Assign a score to each sentence\n",
    "- Select best scoring sentences"
   ]
  },
  {
   "cell_type": "code",
   "execution_count": 5,
   "metadata": {
    "execution": {
     "iopub.execute_input": "2022-12-03T15:29:04.744520Z",
     "iopub.status.busy": "2022-12-03T15:29:04.744158Z",
     "iopub.status.idle": "2022-12-03T15:29:04.843331Z",
     "shell.execute_reply": "2022-12-03T15:29:04.842130Z",
     "shell.execute_reply.started": "2022-12-03T15:29:04.744493Z"
    }
   },
   "outputs": [],
   "source": [
    "text = text_from_html(url)"
   ]
  },
  {
   "cell_type": "code",
   "execution_count": 6,
   "metadata": {
    "execution": {
     "iopub.execute_input": "2022-12-03T15:29:04.844985Z",
     "iopub.status.busy": "2022-12-03T15:29:04.844674Z",
     "iopub.status.idle": "2022-12-03T15:29:04.852056Z",
     "shell.execute_reply": "2022-12-03T15:29:04.850929Z",
     "shell.execute_reply.started": "2022-12-03T15:29:04.844956Z"
    }
   },
   "outputs": [],
   "source": [
    "def similarity(sentenceA, sentenceB):\n",
    "    \"\"\"\n",
    "    1. Split sentences on space\n",
    "    2. Pull similar words\n",
    "    3. Return similarity score\n",
    "    \n",
    "    >>> similarity('Hello, my name is James', 'Hello, James is my name') # perfect similarity\n",
    "    1\n",
    "    \n",
    "    >>> similarity('Hello, my name is James', 'Hi, I am James')\n",
    "    0.2222222222222222\n",
    "    \"\"\"\n",
    "    sentenceA = sentenceA.split(' ')\n",
    "    sentenceB = sentenceB.split(' ')\n",
    "    similar_words = [word for word in sentenceA if word in sentenceB]\n",
    "    return len(similar_words) / ((len(sentenceA) + len(sentenceB)) / 2)"
   ]
  },
  {
   "cell_type": "markdown",
   "metadata": {},
   "source": [
    "- Create a matrix of similarities between pairs of sentences using `sent_tokenize` from `nltk.tokenize`\n",
    "- Matrix will have square dimensions, and be of `shape` `(len(token_sentences), len(token_sentences))`"
   ]
  },
  {
   "cell_type": "code",
   "execution_count": 7,
   "metadata": {
    "execution": {
     "iopub.execute_input": "2022-12-03T15:29:04.854678Z",
     "iopub.status.busy": "2022-12-03T15:29:04.853806Z",
     "iopub.status.idle": "2022-12-03T15:29:05.554844Z",
     "shell.execute_reply": "2022-12-03T15:29:05.553645Z",
     "shell.execute_reply.started": "2022-12-03T15:29:04.854632Z"
    }
   },
   "outputs": [],
   "source": [
    "from nltk.tokenize import sent_tokenize\n",
    "token_sentences = sent_tokenize(text)\n",
    "scores = [[similarity(token_sentences[i], token_sentences[j]) for i in range(len(token_sentences))] \n",
    "          for j in range(len(token_sentences))]"
   ]
  },
  {
   "cell_type": "markdown",
   "metadata": {},
   "source": [
    "If all went correctly, `len(scores)` == `len(token_sentences)`"
   ]
  },
  {
   "cell_type": "code",
   "execution_count": 8,
   "metadata": {
    "execution": {
     "iopub.execute_input": "2022-12-03T15:29:05.557679Z",
     "iopub.status.busy": "2022-12-03T15:29:05.556597Z",
     "iopub.status.idle": "2022-12-03T15:29:05.565580Z",
     "shell.execute_reply": "2022-12-03T15:29:05.564290Z",
     "shell.execute_reply.started": "2022-12-03T15:29:05.557630Z"
    }
   },
   "outputs": [
    {
     "data": {
      "text/plain": [
       "True"
      ]
     },
     "execution_count": 8,
     "metadata": {},
     "output_type": "execute_result"
    }
   ],
   "source": [
    "len(scores) == len(token_sentences)"
   ]
  },
  {
   "cell_type": "markdown",
   "metadata": {},
   "source": [
    "- Calculate individual scores for each sentence\n",
    "- `scores` is the the similarity of each sentence with other sentences\n",
    "- e.g. `scores[0]` is the similarity of the first sentence with every other sentence\n",
    "- Calculate a sentence, i, score by summing `scores` for sentence i with the other sentences\n",
    "- Input sentence with total score into a dictionary"
   ]
  },
  {
   "cell_type": "code",
   "execution_count": 9,
   "metadata": {
    "execution": {
     "iopub.execute_input": "2022-12-03T15:29:05.567988Z",
     "iopub.status.busy": "2022-12-03T15:29:05.567545Z",
     "iopub.status.idle": "2022-12-03T15:29:05.577060Z",
     "shell.execute_reply": "2022-12-03T15:29:05.575797Z",
     "shell.execute_reply.started": "2022-12-03T15:29:05.567944Z"
    }
   },
   "outputs": [
    {
     "data": {
      "text/plain": [
       "4.340800536015334"
      ]
     },
     "execution_count": 9,
     "metadata": {},
     "output_type": "execute_result"
    }
   ],
   "source": [
    "sum(scores[0])"
   ]
  },
  {
   "cell_type": "code",
   "execution_count": 10,
   "metadata": {
    "execution": {
     "iopub.execute_input": "2022-12-03T15:29:05.580098Z",
     "iopub.status.busy": "2022-12-03T15:29:05.578965Z",
     "iopub.status.idle": "2022-12-03T15:29:05.587659Z",
     "shell.execute_reply": "2022-12-03T15:29:05.586729Z",
     "shell.execute_reply.started": "2022-12-03T15:29:05.580063Z"
    }
   },
   "outputs": [],
   "source": [
    "sentence_score = {token_sentences[i]: sum(scores[i]) for i in range(len(scores))}"
   ]
  },
  {
   "cell_type": "code",
   "execution_count": 11,
   "metadata": {
    "execution": {
     "iopub.execute_input": "2022-12-03T15:29:05.589262Z",
     "iopub.status.busy": "2022-12-03T15:29:05.588931Z",
     "iopub.status.idle": "2022-12-03T15:29:05.604038Z",
     "shell.execute_reply": "2022-12-03T15:29:05.602568Z",
     "shell.execute_reply.started": "2022-12-03T15:29:05.589234Z"
    }
   },
   "outputs": [
    {
     "data": {
      "text/plain": [
       "{\"Hawaii's Mauna Loa: Molten lava threatens to block main highway as tourists flock to catch a glimpse of volcano\\nThe molten rock could make the road impassable and force drivers to find alternative coastal routes in the north and south, adding hours to commute times.\": 4.340800536015334,\n",
       " \"Saturday 3 December 2022 11:49, UK\\nHawaii's residents are bracing for further disruption if lava from Mauna Loa volcano slides across a key highway and blocks the quickest route connecting two sides of the island.\": 4.0737589717640486,\n",
       " 'It comes after the spectacle of incandescent lava spewing from the volcano last Sunday for the first time in 38 years has attracted thousands of visitors to the city of Hilo.': 3.763592767710419,\n",
       " 'But now, the molten rock could make the road impassable and force drivers to find alternative coastal routes in the north and south, adding hours to commute times.': 3.8180138056111566,\n",
       " 'The lava is oozing slowly at a rate that may reach the road next week, but its unpredictable path might change course or the flow could stop completely and spare the highway.': 3.446879096488137,\n",
       " 'US Geological Survey scientists said the slow-moving flow was coursing around 2.7 miles (4.3km) from the road on Friday.': 3.2318820636804704,\n",
       " 'Earlier this week, the state Department of Transportation took steps to remove potential traffic obstacles on the northern coastal route by reopening a lane across Nanue Bridge that was closed for repairs.': 4.008996991356825,\n",
       " 'Geologists from the Hawaiian Volcano Observatory said if Mauna Loa follows historical patterns, the eruption is expected to continue for one to two weeks.': 3.9137041321692236,\n",
       " 'Traffic has since clogged the road as people try to get a glimpse of the lava.': 4.52977227894781,\n",
       " 'Hawaii police said a handful of resulting accidents included a two-vehicle crash that sent two people to the hospital with \"not serious injuries\".': 4.2338994073917995,\n",
       " 'Hawaii Democrats Ed Case and Kaiali\\'i Kahele sent a letter to President Joe Biden saying Hawaii County would require \"immediate help\" to keep island communities safe if lava flow blocks the highway.': 3.547437439713851,\n",
       " \"They noted that restricted access could affect emergency services as one of the island's primary hospitals is on the east side.\": 3.6433532872333676,\n",
       " 'Meanwhile, hotels in and around Hilo are getting fully booked in what is usually a slower time of the year for business, while helicopter tours of Mauna Loa are also in high demand since the eruption.': 3.7710677518244644,\n",
       " 'Marian Somalinog, who staffs the front desk at the Castle Hilo Hawaiian Hotel, said sales for rooms have \"boomed\".': 2.985817442480647,\n",
       " '\"We\\'re sold out until after Christmas,\" she added, attributing the increase to people wanting to watch the streams of bright orange molten rock gush from Mauna Loa - a shield volcano whose name means \"Long Mountain\" in Hawaiian - which can be seen from parts of the hotel.': 3.54147315087883,\n",
       " \"The period between Thanksgiving and Christmas is typically quiet for Hawaii's travel industry, but this week thousands of cars have caused traffic jams on Route 200, known as the Saddle Road, which connects the cities of Hilo on the east side of Hawaii Island and Kailua-Kona on the west side.\": 3.1346792019406}"
      ]
     },
     "execution_count": 11,
     "metadata": {},
     "output_type": "execute_result"
    }
   ],
   "source": [
    "sentence_score"
   ]
  },
  {
   "cell_type": "markdown",
   "metadata": {},
   "source": [
    "- Sort the sentences by scores\n",
    "- Return the top three sentences"
   ]
  },
  {
   "cell_type": "code",
   "execution_count": 12,
   "metadata": {
    "execution": {
     "iopub.execute_input": "2022-12-03T15:29:05.606518Z",
     "iopub.status.busy": "2022-12-03T15:29:05.606102Z",
     "iopub.status.idle": "2022-12-03T15:29:05.616643Z",
     "shell.execute_reply": "2022-12-03T15:29:05.615637Z",
     "shell.execute_reply.started": "2022-12-03T15:29:05.606485Z"
    }
   },
   "outputs": [
    {
     "data": {
      "text/plain": [
       "['Traffic has since clogged the road as people try to get a glimpse of the lava.',\n",
       " \"Hawaii's Mauna Loa: Molten lava threatens to block main highway as tourists flock to catch a glimpse of volcano\\nThe molten rock could make the road impassable and force drivers to find alternative coastal routes in the north and south, adding hours to commute times.\",\n",
       " 'Hawaii police said a handful of resulting accidents included a two-vehicle crash that sent two people to the hospital with \"not serious injuries\".']"
      ]
     },
     "execution_count": 12,
     "metadata": {},
     "output_type": "execute_result"
    }
   ],
   "source": [
    "sorted(sentence_score, key=sentence_score.get, reverse=True)[:3]"
   ]
  },
  {
   "cell_type": "markdown",
   "metadata": {},
   "source": [
    "- Wrap everything up into functions\n",
    "- Clean up the output\n",
    "- Use `word_tokenize` and `stopwords` to improve algorithm"
   ]
  },
  {
   "cell_type": "code",
   "execution_count": 13,
   "metadata": {
    "execution": {
     "iopub.execute_input": "2022-12-03T15:29:05.621700Z",
     "iopub.status.busy": "2022-12-03T15:29:05.621332Z",
     "iopub.status.idle": "2022-12-03T15:29:05.792889Z",
     "shell.execute_reply": "2022-12-03T15:29:05.791669Z",
     "shell.execute_reply.started": "2022-12-03T15:29:05.621669Z"
    }
   },
   "outputs": [
    {
     "data": {
      "text/plain": [
       "'Traffic has since clogged the road as people try to get a glimpse of the lava. Hawaii\\'s Mauna Loa: Molten lava threatens to block main highway as tourists flock to catch a glimpse of volcano\\nThe molten rock could make the road impassable and force drivers to find alternative coastal routes in the north and south, adding hours to commute times. Hawaii police said a handful of resulting accidents included a two-vehicle crash that sent two people to the hospital with \"not serious injuries\".'"
      ]
     },
     "execution_count": 13,
     "metadata": {},
     "output_type": "execute_result"
    }
   ],
   "source": [
    "from nltk.tokenize import word_tokenize\n",
    "from nltk.corpus import stopwords\n",
    "stop = stopwords.words('english')\n",
    "import string\n",
    "punctuations = list(string.punctuation)\n",
    "\n",
    "def similarity(sentenceA, sentenceB):\n",
    "    sentenceA = [i for i in word_tokenize(sentenceA) if i not in punctuations and i not in stop]\n",
    "    sentenceB = [i for i in word_tokenize(sentenceB) if i not in punctuations and i not in stop]\n",
    "    similar_words = [word for word in sentenceA if word in sentenceB]\n",
    "    return len(similar_words) / ((len(sentenceA) + len(sentenceB)) / 2)\n",
    "\n",
    "def calculate_score(text):\n",
    "    token_sentences = sent_tokenize(text)\n",
    "    scores = [[similarity(token_sentences[i], token_sentences[j]) for i in range(len(token_sentences))] \n",
    "          for j in range(len(token_sentences))]\n",
    "    return sorted({token_sentences[i]: sum(scores[i]) for i in range(len(scores))}, key=sentence_score.get, reverse=True)\n",
    "\n",
    "def summarise(text, num_sentences=3):\n",
    "    summary = calculate_score(text)\n",
    "    return ' '.join(summary[:num_sentences])\n",
    "\n",
    "summarise(text)"
   ]
  },
  {
   "cell_type": "markdown",
   "metadata": {},
   "source": [
    "- Compare with the `sumy` package\n",
    "- Install `sumy` withing virtual environment\n",
    "- `sumy` has implemented various summarization algorithms such as TextRank, Luhn, Edmundson, LSA, LexRank, KL-Sum, SumBasic, and Reduction\n",
    "- Use TextRank"
   ]
  },
  {
   "cell_type": "code",
   "execution_count": 14,
   "metadata": {
    "execution": {
     "iopub.execute_input": "2022-12-03T15:29:05.795189Z",
     "iopub.status.busy": "2022-12-03T15:29:05.794535Z",
     "iopub.status.idle": "2022-12-03T15:29:17.261513Z",
     "shell.execute_reply": "2022-12-03T15:29:17.259823Z",
     "shell.execute_reply.started": "2022-12-03T15:29:05.795152Z"
    }
   },
   "outputs": [
    {
     "name": "stdout",
     "output_type": "stream",
     "text": [
      "Requirement already satisfied: sumy in /opt/conda/lib/python3.7/site-packages (0.11.0)\n",
      "Requirement already satisfied: requests>=2.7.0 in /opt/conda/lib/python3.7/site-packages (from sumy) (2.28.1)\n",
      "Requirement already satisfied: nltk>=3.0.2 in /opt/conda/lib/python3.7/site-packages (from sumy) (3.7)\n",
      "Requirement already satisfied: docopt<0.7,>=0.6.1 in /opt/conda/lib/python3.7/site-packages (from sumy) (0.6.2)\n",
      "Requirement already satisfied: breadability>=0.1.20 in /opt/conda/lib/python3.7/site-packages (from sumy) (0.1.20)\n",
      "Requirement already satisfied: pycountry>=18.2.23 in /opt/conda/lib/python3.7/site-packages (from sumy) (22.3.5)\n",
      "Requirement already satisfied: chardet in /opt/conda/lib/python3.7/site-packages (from breadability>=0.1.20->sumy) (5.0.0)\n",
      "Requirement already satisfied: lxml>=2.0 in /opt/conda/lib/python3.7/site-packages (from breadability>=0.1.20->sumy) (4.9.1)\n",
      "Requirement already satisfied: click in /opt/conda/lib/python3.7/site-packages (from nltk>=3.0.2->sumy) (8.0.4)\n",
      "Requirement already satisfied: tqdm in /opt/conda/lib/python3.7/site-packages (from nltk>=3.0.2->sumy) (4.64.0)\n",
      "Requirement already satisfied: regex>=2021.8.3 in /opt/conda/lib/python3.7/site-packages (from nltk>=3.0.2->sumy) (2021.11.10)\n",
      "Requirement already satisfied: joblib in /opt/conda/lib/python3.7/site-packages (from nltk>=3.0.2->sumy) (1.0.1)\n",
      "Requirement already satisfied: setuptools in /opt/conda/lib/python3.7/site-packages (from pycountry>=18.2.23->sumy) (59.8.0)\n",
      "Collecting charset-normalizer<3,>=2\n",
      "  Using cached charset_normalizer-2.1.1-py3-none-any.whl (39 kB)\n",
      "Requirement already satisfied: idna<4,>=2.5 in /opt/conda/lib/python3.7/site-packages (from requests>=2.7.0->sumy) (3.3)\n",
      "Requirement already satisfied: certifi>=2017.4.17 in /opt/conda/lib/python3.7/site-packages (from requests>=2.7.0->sumy) (2022.9.24)\n",
      "Requirement already satisfied: urllib3<1.27,>=1.21.1 in /opt/conda/lib/python3.7/site-packages (from requests>=2.7.0->sumy) (1.26.12)\n",
      "Requirement already satisfied: importlib-metadata in /opt/conda/lib/python3.7/site-packages (from click->nltk>=3.0.2->sumy) (4.13.0)\n",
      "Requirement already satisfied: zipp>=0.5 in /opt/conda/lib/python3.7/site-packages (from importlib-metadata->click->nltk>=3.0.2->sumy) (3.8.0)\n",
      "Requirement already satisfied: typing-extensions>=3.6.4 in /opt/conda/lib/python3.7/site-packages (from importlib-metadata->click->nltk>=3.0.2->sumy) (4.4.0)\n",
      "Installing collected packages: charset-normalizer\n",
      "  Attempting uninstall: charset-normalizer\n",
      "    Found existing installation: charset-normalizer 3.0.1\n",
      "    Uninstalling charset-normalizer-3.0.1:\n",
      "      Successfully uninstalled charset-normalizer-3.0.1\n",
      "\u001b[31mERROR: pip's dependency resolver does not currently take into account all the packages that are installed. This behaviour is the source of the following dependency conflicts.\n",
      "beatrix-jupyterlab 3.1.7 requires google-cloud-bigquery-storage, which is not installed.\n",
      "pandas-profiling 3.1.0 requires markupsafe~=2.0.1, but you have markupsafe 2.1.1 which is incompatible.\n",
      "htmldate 1.4.0 requires charset-normalizer>=3.0.1, but you have charset-normalizer 2.1.1 which is incompatible.\n",
      "google-api-core 1.33.2 requires protobuf!=3.20.0,!=3.20.1,!=4.21.0,!=4.21.1,!=4.21.2,!=4.21.3,!=4.21.4,!=4.21.5,<4.0.0dev,>=3.19.5, but you have protobuf 3.19.4 which is incompatible.\n",
      "gcsfs 2022.5.0 requires fsspec==2022.5.0, but you have fsspec 2022.8.2 which is incompatible.\n",
      "apache-beam 2.40.0 requires dill<0.3.2,>=0.3.1.1, but you have dill 0.3.5.1 which is incompatible.\n",
      "apache-beam 2.40.0 requires pyarrow<8.0.0,>=0.15.1, but you have pyarrow 8.0.0 which is incompatible.\n",
      "allennlp 2.10.0 requires protobuf==3.20.0, but you have protobuf 3.19.4 which is incompatible.\n",
      "aiobotocore 2.4.0 requires botocore<1.27.60,>=1.27.59, but you have botocore 1.27.93 which is incompatible.\u001b[0m\u001b[31m\n",
      "\u001b[0mSuccessfully installed charset-normalizer-2.1.1\n",
      "\u001b[33mWARNING: Running pip as the 'root' user can result in broken permissions and conflicting behaviour with the system package manager. It is recommended to use a virtual environment instead: https://pip.pypa.io/warnings/venv\u001b[0m\u001b[33m\n",
      "\u001b[0m"
     ]
    }
   ],
   "source": [
    "!pip install sumy"
   ]
  },
  {
   "cell_type": "code",
   "execution_count": 15,
   "metadata": {
    "execution": {
     "iopub.execute_input": "2022-12-03T15:29:17.263725Z",
     "iopub.status.busy": "2022-12-03T15:29:17.263339Z",
     "iopub.status.idle": "2022-12-03T15:29:17.326331Z",
     "shell.execute_reply": "2022-12-03T15:29:17.325307Z",
     "shell.execute_reply.started": "2022-12-03T15:29:17.263694Z"
    }
   },
   "outputs": [],
   "source": [
    "from sumy.parsers.plaintext import PlaintextParser\n",
    "from sumy.nlp.tokenizers import Tokenizer\n",
    "\n",
    "parser = PlaintextParser.from_string(text,Tokenizer(\"english\"))"
   ]
  },
  {
   "cell_type": "markdown",
   "metadata": {},
   "source": [
    "Summarise using TextRank"
   ]
  },
  {
   "cell_type": "code",
   "execution_count": 16,
   "metadata": {
    "execution": {
     "iopub.execute_input": "2022-12-03T15:29:17.328596Z",
     "iopub.status.busy": "2022-12-03T15:29:17.327826Z",
     "iopub.status.idle": "2022-12-03T15:29:17.353485Z",
     "shell.execute_reply": "2022-12-03T15:29:17.352230Z",
     "shell.execute_reply.started": "2022-12-03T15:29:17.328562Z"
    }
   },
   "outputs": [
    {
     "data": {
      "text/plain": [
       "\"Hawaii's Mauna Loa: Molten lava threatens to block main highway as tourists flock to catch a glimpse of volcano The molten rock could make the road impassable and force drivers to find alternative coastal routes in the north and south, adding hours to commute times.The period between Thanksgiving and Christmas is typically quiet for Hawaii's travel industry, but this week thousands of cars have caused traffic jams on Route 200, known as the Saddle Road, which connects the cities of Hilo on the east side of Hawaii Island and Kailua-Kona on the west side.\""
      ]
     },
     "execution_count": 16,
     "metadata": {},
     "output_type": "execute_result"
    }
   ],
   "source": [
    "from sumy.summarizers.text_rank import TextRankSummarizer\n",
    "summariser = TextRankSummarizer()\n",
    "summary = summariser(parser.document,2)\n",
    "text_summary = ''\n",
    "\n",
    "for sentence in summary:\n",
    "    text_summary += str(sentence)\n",
    "text_summary"
   ]
  },
  {
   "cell_type": "markdown",
   "metadata": {},
   "source": [
    "- Compare with LexRank\n",
    "- LexRank is graph-based (unsupervised, similar to TextRank)\n",
    "- LexRank uses cosine similarity"
   ]
  },
  {
   "cell_type": "code",
   "execution_count": 17,
   "metadata": {
    "execution": {
     "iopub.execute_input": "2022-12-03T15:29:17.355588Z",
     "iopub.status.busy": "2022-12-03T15:29:17.355110Z",
     "iopub.status.idle": "2022-12-03T15:29:17.377255Z",
     "shell.execute_reply": "2022-12-03T15:29:17.375874Z",
     "shell.execute_reply.started": "2022-12-03T15:29:17.355546Z"
    }
   },
   "outputs": [
    {
     "data": {
      "text/plain": [
       "\"Hawaii's Mauna Loa: Molten lava threatens to block main highway as tourists flock to catch a glimpse of volcano The molten rock could make the road impassable and force drivers to find alternative coastal routes in the north and south, adding hours to commute times.The period between Thanksgiving and Christmas is typically quiet for Hawaii's travel industry, but this week thousands of cars have caused traffic jams on Route 200, known as the Saddle Road, which connects the cities of Hilo on the east side of Hawaii Island and Kailua-Kona on the west side.Hawaii's Mauna Loa: Molten lava threatens to block main highway as tourists flock to catch a glimpse of volcano The molten rock could make the road impassable and force drivers to find alternative coastal routes in the north and south, adding hours to commute times.Saturday 3 December 2022 11:49, UK Hawaii's residents are bracing for further disruption if lava from Mauna Loa volcano slides across a key highway and blocks the quickest route connecting two sides of the island.\""
      ]
     },
     "execution_count": 17,
     "metadata": {},
     "output_type": "execute_result"
    }
   ],
   "source": [
    "from sumy.summarizers.lex_rank import LexRankSummarizer\n",
    "summariser = LexRankSummarizer()\n",
    "summary = summariser(parser.document,2)\n",
    "test_summary = ''\n",
    "for sentence in summary:\n",
    "    text_summary += str(sentence)\n",
    "text_summary"
   ]
  },
  {
   "cell_type": "markdown",
   "metadata": {},
   "source": [
    "- Latent Semnatic Analysis is based on singular value decomposition (SVD)\n",
    "- Reduced data dimensionality\n",
    "- Performs spatial decomsposition and captures information in a singular vector and the magnitude"
   ]
  },
  {
   "cell_type": "code",
   "execution_count": 18,
   "metadata": {
    "execution": {
     "iopub.execute_input": "2022-12-03T15:29:17.379540Z",
     "iopub.status.busy": "2022-12-03T15:29:17.379067Z",
     "iopub.status.idle": "2022-12-03T15:29:17.400545Z",
     "shell.execute_reply": "2022-12-03T15:29:17.399256Z",
     "shell.execute_reply.started": "2022-12-03T15:29:17.379493Z"
    }
   },
   "outputs": [
    {
     "data": {
      "text/plain": [
       "'Hawaii\\'s Mauna Loa: Molten lava threatens to block main highway as tourists flock to catch a glimpse of volcano The molten rock could make the road impassable and force drivers to find alternative coastal routes in the north and south, adding hours to commute times.The period between Thanksgiving and Christmas is typically quiet for Hawaii\\'s travel industry, but this week thousands of cars have caused traffic jams on Route 200, known as the Saddle Road, which connects the cities of Hilo on the east side of Hawaii Island and Kailua-Kona on the west side.Hawaii\\'s Mauna Loa: Molten lava threatens to block main highway as tourists flock to catch a glimpse of volcano The molten rock could make the road impassable and force drivers to find alternative coastal routes in the north and south, adding hours to commute times.Saturday 3 December 2022 11:49, UK Hawaii\\'s residents are bracing for further disruption if lava from Mauna Loa volcano slides across a key highway and blocks the quickest route connecting two sides of the island.Saturday 3 December 2022 11:49, UK Hawaii\\'s residents are bracing for further disruption if lava from Mauna Loa volcano slides across a key highway and blocks the quickest route connecting two sides of the island.Hawaii Democrats Ed Case and Kaiali\\'i Kahele sent a letter to President Joe Biden saying Hawaii County would require \"immediate help\" to keep island communities safe if lava flow blocks the highway.'"
      ]
     },
     "execution_count": 18,
     "metadata": {},
     "output_type": "execute_result"
    }
   ],
   "source": [
    "from sumy.summarizers.lsa import LsaSummarizer\n",
    "summariser = LsaSummarizer()\n",
    "summary = summariser(parser.document,2)\n",
    "test_summary = ''\n",
    "for sentence in summary:\n",
    "    text_summary += str(sentence)\n",
    "text_summary"
   ]
  },
  {
   "cell_type": "markdown",
   "metadata": {},
   "source": [
    "- KL Divergence calculates difference between two probability distributions\n",
    "- KL Divergence takes a matrix of the KLD value of sentences from the input document"
   ]
  },
  {
   "cell_type": "code",
   "execution_count": 19,
   "metadata": {
    "execution": {
     "iopub.execute_input": "2022-12-03T15:29:17.402551Z",
     "iopub.status.busy": "2022-12-03T15:29:17.402179Z",
     "iopub.status.idle": "2022-12-03T15:29:17.432407Z",
     "shell.execute_reply": "2022-12-03T15:29:17.431417Z",
     "shell.execute_reply.started": "2022-12-03T15:29:17.402519Z"
    }
   },
   "outputs": [
    {
     "data": {
      "text/plain": [
       "'Hawaii\\'s Mauna Loa: Molten lava threatens to block main highway as tourists flock to catch a glimpse of volcano The molten rock could make the road impassable and force drivers to find alternative coastal routes in the north and south, adding hours to commute times.The period between Thanksgiving and Christmas is typically quiet for Hawaii\\'s travel industry, but this week thousands of cars have caused traffic jams on Route 200, known as the Saddle Road, which connects the cities of Hilo on the east side of Hawaii Island and Kailua-Kona on the west side.Hawaii\\'s Mauna Loa: Molten lava threatens to block main highway as tourists flock to catch a glimpse of volcano The molten rock could make the road impassable and force drivers to find alternative coastal routes in the north and south, adding hours to commute times.Saturday 3 December 2022 11:49, UK Hawaii\\'s residents are bracing for further disruption if lava from Mauna Loa volcano slides across a key highway and blocks the quickest route connecting two sides of the island.Saturday 3 December 2022 11:49, UK Hawaii\\'s residents are bracing for further disruption if lava from Mauna Loa volcano slides across a key highway and blocks the quickest route connecting two sides of the island.Hawaii Democrats Ed Case and Kaiali\\'i Kahele sent a letter to President Joe Biden saying Hawaii County would require \"immediate help\" to keep island communities safe if lava flow blocks the highway.Marian Somalinog, who staffs the front desk at the Castle Hilo Hawaiian Hotel, said sales for rooms have \"boomed\".The period between Thanksgiving and Christmas is typically quiet for Hawaii\\'s travel industry, but this week thousands of cars have caused traffic jams on Route 200, known as the Saddle Road, which connects the cities of Hilo on the east side of Hawaii Island and Kailua-Kona on the west side.'"
      ]
     },
     "execution_count": 19,
     "metadata": {},
     "output_type": "execute_result"
    }
   ],
   "source": [
    "from sumy.summarizers.kl import KLSummarizer\n",
    "summariser = KLSummarizer()\n",
    "summary = summariser(parser.document,2)\n",
    "test_summary = ''\n",
    "for sentence in summary:\n",
    "    text_summary += str(sentence)\n",
    "text_summary"
   ]
  }
 ],
 "metadata": {
  "kernelspec": {
   "display_name": "Python 3",
   "language": "python",
   "name": "python3"
  },
  "language_info": {
   "codemirror_mode": {
    "name": "ipython",
    "version": 3
   },
   "file_extension": ".py",
   "mimetype": "text/x-python",
   "name": "python",
   "nbconvert_exporter": "python",
   "pygments_lexer": "ipython3",
   "version": "3.8.5"
  }
 },
 "nbformat": 4,
 "nbformat_minor": 4
}
